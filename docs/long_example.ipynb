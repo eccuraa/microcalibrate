{
 "cells": [
  {
   "cell_type": "markdown",
   "id": "45a6c2e4",
   "metadata": {},
   "source": [
    "# Example of age calibration on real CPS data for one district and national targets"
   ]
  },
  {
   "cell_type": "markdown",
   "id": "b2f7a225",
   "metadata": {},
   "source": [
    "### Install packages"
   ]
  },
  {
   "cell_type": "code",
   "execution_count": 1,
   "id": "8fc312ca",
   "metadata": {},
   "outputs": [
    {
     "name": "stderr",
     "output_type": "stream",
     "text": [
      "/Users/elenacura/Desktop/PolicyEngine/microcalibrate/.venv/lib/python3.11/site-packages/tqdm/auto.py:21: TqdmWarning: IProgress not found. Please update jupyter and ipywidgets. See https://ipywidgets.readthedocs.io/en/stable/user_install.html\n",
      "  from .autonotebook import tqdm as notebook_tqdm\n"
     ]
    }
   ],
   "source": [
    "from microcalibrate.calibration import Calibration\n",
    "import logging\n",
    "import numpy as np\n",
    "import pandas as pd\n",
    "import plotly.graph_objs as go\n",
    "from plotly.subplots import make_subplots\n",
    "from policyengine_core.data import Dataset\n",
    "\n",
    "logging.basicConfig(\n",
    "    level=logging.INFO,\n",
    ")"
   ]
  },
  {
   "cell_type": "markdown",
   "id": "24a55db2",
   "metadata": {},
   "source": [
    "## Change original sample dataset to 2024 small enhanced CPS dataset"
   ]
  },
  {
   "cell_type": "markdown",
   "id": "4e960595",
   "metadata": {},
   "source": [
    "#### More imports for data import"
   ]
  },
  {
   "cell_type": "code",
   "execution_count": 2,
   "id": "66b3f170",
   "metadata": {},
   "outputs": [],
   "source": [
    "from microcalibrate.data import get_dataset \n"
   ]
  },
  {
   "cell_type": "markdown",
   "id": "945f8ad7",
   "metadata": {},
   "source": [
    "### Load the dataframe\n",
    "##### I chose to include household ID and then drop it after to ensure each individual corresponded to a household, given we are doing a household level analysis. I also loaded the weights with the column data to ensure they match."
   ]
  },
  {
   "cell_type": "markdown",
   "id": "f9a83eda",
   "metadata": {},
   "source": [
    "#### TODO: Wide to long conversion\n",
    "My current plan: \n",
    "1. I would need to add a column to df_age_nworth that indicates the district the household belongs to. \n",
    "2. Then, I imagine that I would need to copy the dataset and paste all households once for each district, just changing the value of the district column.\n",
    "   1. Should I do all districts in virginia to start? or one district in virginia and leave the rest of ALL national districts uncalibrated, to start. \n",
    "3. Then make the weights more than just a single array. Add several levels of targets."
   ]
  },
  {
   "cell_type": "code",
   "execution_count": null,
   "id": "dbc7a8e5",
   "metadata": {},
   "outputs": [],
   "source": [
    "# Load the data \n",
    "df_age_nworth = get_dataset()\n",
    "\n",
    "# Remove the household_id column\n",
    "df_age_nworth.drop(columns=[\"household_id/2024\"], inplace=True)\n",
    "\n",
    "# Extract the weights for calibration\n",
    "df_init_weights = df_age_nworth.pop(\"household_weight/2024\")\n",
    "# TODO: Convert weights to an array.\n",
    "\n",
    "# Asserting the dataframes have the same length, as an extra check that the weights line up with the data.\n",
    "assert(len(df_age_nworth) == len(df_init_weights))"
   ]
  },
  {
   "cell_type": "markdown",
   "id": "7e67505c",
   "metadata": {},
   "source": [
    "## Bring in Ben's age target .csv.\n",
    "\n",
    "### Starting with national calibration, then adding district level (maybe then state)"
   ]
  },
  {
   "cell_type": "code",
   "execution_count": 9,
   "id": "a513b9d9",
   "metadata": {},
   "outputs": [],
   "source": [
    "# Calculate target values: total income for age groups 20-30 and 40-50 (as an example) or employ existing targets\n",
    "targets_matrix = pd.DataFrame({\n",
    "    \"income_aged_20_30\": ((df_age_nworth[\"age/2024\"] >= 20) & (df_age_nworth[\"age/2024\"] <= 30)).astype(float) * df_age_nworth[\"net_worth/2024\"],\n",
    "    \"income_aged_40_50\": ((df_age_nworth[\"age/2024\"] >= 40) & (df_age_nworth[\"age/2024\"] <= 50)).astype(float) * df_age_nworth[\"net_worth/2024\"],\n",
    "    \"income_aged_71\" : (df_age_nworth[\"age/2024\"] == 71).astype(float) * df_age_nworth[\"net_worth/2024\"],\n",
    "})"
   ]
  },
  {
   "cell_type": "code",
   "execution_count": null,
   "id": "07877a37",
   "metadata": {},
   "outputs": [],
   "source": [
    "## Replace with Ben's (national) targets. This might not change the dataframe much, but it's a starting place.\n",
    "\n",
    "targets = np.array([\n",
    "    (targets_matrix[\"income_aged_20_30\"] * weights * 1000).sum(), \n",
    "    (targets_matrix[\"income_aged_40_50\"] * weights * 1.15).sum(), \n",
    "    (targets_matrix[\"income_aged_71\"] * weights * 1.15).sum()\n",
    "])\n",
    "\n",
    "print(f\"Original weights: {weights}\")\n",
    "print(f\"Original targets: {targets}\")"
   ]
  },
  {
   "cell_type": "code",
   "execution_count": null,
   "id": "56ad1024",
   "metadata": {},
   "outputs": [
    {
     "name": "stderr",
     "output_type": "stream",
     "text": [
      "INFO:microcalibrate.calibration:Performing basic target assessment...\n",
      "WARNING:microcalibrate.calibration:Target income_aged_20_30 (7.37e+08) differs from initial estimate (7.37e+05) by 3.00 orders of magnitude.\n",
      "WARNING:microcalibrate.calibration:Target income_aged_71 is supported by only 0.83% of records in the loss matrix. This may make calibration unstable or ineffective.\n",
      "INFO:microcalibrate.reweight:Starting calibration process for targets ['income_aged_20_30' 'income_aged_40_50' 'income_aged_71']: [7.37032429e+08 9.76779350e+05 4.36479914e+04]\n",
      "INFO:microcalibrate.reweight:Original weights - mean: 1.0000, std: 0.0000\n",
      "INFO:microcalibrate.reweight:Initial weights after noise - mean: 1.0252, std: 0.0143\n",
      "Reweighting progress:   0%|          | 0/528 [00:00<?, ?epoch/s, loss=0.342, count_observations=121, weights_mean=1.03, weights_std=0.0143, weights_min=1]INFO:microcalibrate.reweight:Within 10% from targets: 0.00% \n",
      "\n",
      "Reweighting progress:   0%|          | 0/528 [00:00<?, ?epoch/s, loss=0.333, count_observations=121, weights_mean=1.06, weights_std=0.0514, weights_min=1]INFO:microcalibrate.reweight:Within 10% from targets: 66.67% \n",
      "\n",
      "INFO:microcalibrate.reweight:Epoch   10: Loss = 0.333290, Change = 0.008943 (improving)\n",
      "Reweighting progress:   2%|▏         | 13/528 [00:00<00:04, 125.70epoch/s, loss=0.333, count_observations=121, weights_mean=1.09, weights_std=0.0934, weights_min=1]INFO:microcalibrate.reweight:Within 10% from targets: 66.67% \n",
      "\n",
      "INFO:microcalibrate.reweight:Epoch   20: Loss = 0.332910, Change = 0.000380 (improving)\n",
      "Reweighting progress:   5%|▍         | 26/528 [00:00<00:03, 127.92epoch/s, loss=0.333, count_observations=121, weights_mean=1.11, weights_std=0.133, weights_min=1] INFO:microcalibrate.reweight:Within 10% from targets: 66.67% \n",
      "\n",
      "INFO:microcalibrate.reweight:Epoch   30: Loss = 0.332580, Change = 0.000330 (improving)\n",
      "Reweighting progress:   7%|▋         | 39/528 [00:00<00:03, 128.85epoch/s, loss=0.332, count_observations=121, weights_mean=1.13, weights_std=0.186, weights_min=1]INFO:microcalibrate.reweight:Within 10% from targets: 66.67% \n",
      "\n",
      "INFO:microcalibrate.reweight:Epoch   40: Loss = 0.332336, Change = 0.000244 (improving)\n",
      "Reweighting progress:   7%|▋         | 39/528 [00:00<00:03, 128.85epoch/s, loss=0.332, count_observations=121, weights_mean=1.16, weights_std=0.252, weights_min=1]INFO:microcalibrate.reweight:Within 10% from targets: 66.67% \n",
      "\n",
      "INFO:microcalibrate.reweight:Epoch   50: Loss = 0.332198, Change = 0.000139 (improving)\n",
      "Reweighting progress:  10%|▉         | 52/528 [00:00<00:04, 115.93epoch/s, loss=0.332, count_observations=121, weights_mean=1.19, weights_std=0.329, weights_min=1]INFO:microcalibrate.reweight:Within 10% from targets: 66.67% \n",
      "\n",
      "INFO:microcalibrate.reweight:Epoch   60: Loss = 0.332033, Change = 0.000165 (improving)\n",
      "Reweighting progress:  12%|█▏        | 64/528 [00:00<00:04, 102.30epoch/s, loss=0.332, count_observations=121, weights_mean=1.23, weights_std=0.421, weights_min=1]INFO:microcalibrate.reweight:Within 10% from targets: 66.67% \n",
      "\n",
      "INFO:microcalibrate.reweight:Epoch   70: Loss = 0.331856, Change = 0.000176 (improving)\n",
      "Reweighting progress:  14%|█▍        | 75/528 [00:00<00:04, 98.88epoch/s, loss=0.332, count_observations=121, weights_mean=1.27, weights_std=0.531, weights_min=1] INFO:microcalibrate.reweight:Within 10% from targets: 66.67% \n",
      "\n",
      "INFO:microcalibrate.reweight:Epoch   80: Loss = 0.331649, Change = 0.000208 (improving)\n",
      "Reweighting progress:  16%|█▋        | 86/528 [00:00<00:04, 97.66epoch/s, loss=0.331, count_observations=121, weights_mean=1.33, weights_std=0.663, weights_min=1]INFO:microcalibrate.reweight:Within 10% from targets: 66.67% \n",
      "\n",
      "INFO:microcalibrate.reweight:Epoch   90: Loss = 0.331402, Change = 0.000247 (improving)\n",
      "Reweighting progress:  18%|█▊        | 96/528 [00:00<00:04, 94.44epoch/s, loss=0.331, count_observations=121, weights_mean=1.4, weights_std=0.823, weights_min=1] INFO:microcalibrate.reweight:Within 10% from targets: 66.67% \n",
      "\n",
      "INFO:microcalibrate.reweight:Epoch  100: Loss = 0.331104, Change = 0.000298 (improving)\n",
      "Reweighting progress:  20%|██        | 106/528 [00:01<00:04, 95.06epoch/s, loss=0.331, count_observations=121, weights_mean=1.48, weights_std=1.02, weights_min=1]INFO:microcalibrate.reweight:Within 10% from targets: 66.67% \n",
      "\n",
      "INFO:microcalibrate.reweight:Epoch  110: Loss = 0.330742, Change = 0.000361 (improving)\n",
      "Reweighting progress:  22%|██▏       | 117/528 [00:01<00:04, 98.98epoch/s, loss=0.33, count_observations=121, weights_mean=1.58, weights_std=1.25, weights_min=1] INFO:microcalibrate.reweight:Within 10% from targets: 66.67% \n",
      "\n",
      "INFO:microcalibrate.reweight:Epoch  120: Loss = 0.330300, Change = 0.000442 (improving)\n",
      "Reweighting progress:  22%|██▏       | 117/528 [00:01<00:04, 98.98epoch/s, loss=0.33, count_observations=121, weights_mean=1.7, weights_std=1.55, weights_min=1] INFO:microcalibrate.reweight:Within 10% from targets: 66.67% \n",
      "\n",
      "INFO:microcalibrate.reweight:Epoch  130: Loss = 0.329756, Change = 0.000544 (improving)\n",
      "Reweighting progress:  25%|██▌       | 132/528 [00:01<00:03, 113.06epoch/s, loss=0.329, count_observations=121, weights_mean=1.85, weights_std=1.91, weights_min=1]INFO:microcalibrate.reweight:Within 10% from targets: 66.67% \n",
      "\n",
      "INFO:microcalibrate.reweight:Epoch  140: Loss = 0.329081, Change = 0.000675 (improving)\n",
      "Reweighting progress:  27%|██▋       | 144/528 [00:01<00:03, 112.27epoch/s, loss=0.328, count_observations=121, weights_mean=2.04, weights_std=2.37, weights_min=1]INFO:microcalibrate.reweight:Within 10% from targets: 66.67% \n",
      "\n",
      "INFO:microcalibrate.reweight:Epoch  150: Loss = 0.328237, Change = 0.000844 (improving)\n",
      "Reweighting progress:  30%|██▉       | 156/528 [00:01<00:04, 80.53epoch/s, loss=0.327, count_observations=121, weights_mean=2.28, weights_std=2.94, weights_min=1] INFO:microcalibrate.reweight:Within 10% from targets: 66.67% \n",
      "\n",
      "INFO:microcalibrate.reweight:Epoch  160: Loss = 0.327176, Change = 0.001061 (improving)\n",
      "Reweighting progress:  31%|███▏      | 166/528 [00:01<00:04, 78.91epoch/s, loss=0.326, count_observations=121, weights_mean=2.58, weights_std=3.67, weights_min=1]INFO:microcalibrate.reweight:Within 10% from targets: 66.67% \n",
      "\n",
      "INFO:microcalibrate.reweight:Epoch  170: Loss = 0.325832, Change = 0.001343 (improving)\n",
      "Reweighting progress:  33%|███▎      | 175/528 [00:01<00:04, 75.26epoch/s, loss=0.324, count_observations=121, weights_mean=2.97, weights_std=4.6, weights_min=1] INFO:microcalibrate.reweight:Within 10% from targets: 66.67% \n",
      "\n",
      "INFO:microcalibrate.reweight:Epoch  180: Loss = 0.324120, Change = 0.001712 (improving)\n",
      "Reweighting progress:  35%|███▍      | 184/528 [00:02<00:04, 77.56epoch/s, loss=0.322, count_observations=121, weights_mean=3.47, weights_std=5.79, weights_min=1]INFO:microcalibrate.reweight:Within 10% from targets: 66.67% \n",
      "\n",
      "INFO:microcalibrate.reweight:Epoch  190: Loss = 0.321925, Change = 0.002196 (improving)\n",
      "Reweighting progress:  38%|███▊      | 199/528 [00:02<00:03, 94.91epoch/s, loss=0.319, count_observations=121, weights_mean=4.11, weights_std=7.34, weights_min=1]INFO:microcalibrate.reweight:Within 10% from targets: 66.67% \n",
      "\n",
      "INFO:microcalibrate.reweight:Epoch  200: Loss = 0.319093, Change = 0.002831 (improving)\n",
      "Reweighting progress:  38%|███▊      | 199/528 [00:02<00:03, 94.91epoch/s, loss=0.315, count_observations=121, weights_mean=4.95, weights_std=9.36, weights_min=1]INFO:microcalibrate.reweight:Within 10% from targets: 66.67% \n",
      "\n",
      "INFO:microcalibrate.reweight:Epoch  210: Loss = 0.315423, Change = 0.003670 (improving)\n",
      "Reweighting progress:  41%|████      | 216/528 [00:02<00:02, 113.35epoch/s, loss=0.311, count_observations=121, weights_mean=6.05, weights_std=12, weights_min=1]  INFO:microcalibrate.reweight:Within 10% from targets: 66.67% \n",
      "\n",
      "INFO:microcalibrate.reweight:Epoch  220: Loss = 0.310644, Change = 0.004779 (improving)\n",
      "Reweighting progress:  41%|████      | 216/528 [00:02<00:02, 113.35epoch/s, loss=0.304, count_observations=121, weights_mean=7.5, weights_std=15.5, weights_min=1]INFO:microcalibrate.reweight:Within 10% from targets: 66.67% \n",
      "\n",
      "INFO:microcalibrate.reweight:Epoch  230: Loss = 0.304401, Change = 0.006244 (improving)\n",
      "Reweighting progress:  44%|████▍     | 231/528 [00:02<00:02, 120.22epoch/s, loss=0.296, count_observations=121, weights_mean=9.42, weights_std=20.1, weights_min=1]INFO:microcalibrate.reweight:Within 10% from targets: 66.67% \n",
      "\n",
      "INFO:microcalibrate.reweight:Epoch  240: Loss = 0.296225, Change = 0.008176 (improving)\n",
      "Reweighting progress:  46%|████▌     | 244/528 [00:02<00:02, 113.78epoch/s, loss=0.286, count_observations=121, weights_mean=12, weights_std=26.3, weights_min=1]  INFO:microcalibrate.reweight:Within 10% from targets: 66.67% \n",
      "\n",
      "INFO:microcalibrate.reweight:Epoch  250: Loss = 0.285513, Change = 0.010711 (improving)\n",
      "Reweighting progress:  48%|████▊     | 256/528 [00:02<00:02, 101.46epoch/s, loss=0.272, count_observations=121, weights_mean=15.4, weights_std=34.5, weights_min=1]INFO:microcalibrate.reweight:Within 10% from targets: 66.67% \n",
      "\n",
      "INFO:microcalibrate.reweight:Epoch  260: Loss = 0.271507, Change = 0.014006 (improving)\n",
      "Reweighting progress:  51%|█████     | 267/528 [00:02<00:02, 99.58epoch/s, loss=0.253, count_observations=121, weights_mean=20, weights_std=45.5, weights_min=1]   INFO:microcalibrate.reweight:Within 10% from targets: 66.67% \n",
      "\n",
      "INFO:microcalibrate.reweight:Epoch  270: Loss = 0.253290, Change = 0.018217 (improving)\n",
      "Reweighting progress:  53%|█████▎    | 280/528 [00:02<00:02, 106.38epoch/s, loss=0.23, count_observations=121, weights_mean=26.1, weights_std=60.3, weights_min=1]INFO:microcalibrate.reweight:Within 10% from targets: 66.67% \n",
      "\n",
      "INFO:microcalibrate.reweight:Epoch  280: Loss = 0.229841, Change = 0.023448 (improving)\n",
      "Reweighting progress:  53%|█████▎    | 280/528 [00:02<00:02, 106.38epoch/s, loss=0.2, count_observations=121, weights_mean=34.4, weights_std=80.1, weights_min=1] INFO:microcalibrate.reweight:Within 10% from targets: 66.67% \n",
      "\n",
      "INFO:microcalibrate.reweight:Epoch  290: Loss = 0.200203, Change = 0.029638 (improving)\n",
      "Reweighting progress:  55%|█████▌    | 291/528 [00:02<00:02, 103.27epoch/s, loss=0.164, count_observations=121, weights_mean=45.4, weights_std=106, weights_min=1]INFO:microcalibrate.reweight:Within 10% from targets: 66.67% \n",
      "\n",
      "INFO:microcalibrate.reweight:Epoch  300: Loss = 0.163865, Change = 0.036338 (improving)\n",
      "Reweighting progress:  58%|█████▊    | 304/528 [00:03<00:02, 110.12epoch/s, loss=0.122, count_observations=121, weights_mean=59.8, weights_std=141, weights_min=1]INFO:microcalibrate.reweight:Within 10% from targets: 66.67% \n",
      "\n",
      "INFO:microcalibrate.reweight:Epoch  310: Loss = 0.121534, Change = 0.042330 (improving)\n",
      "Reweighting progress:  60%|█████▉    | 316/528 [00:03<00:02, 102.04epoch/s, loss=0.0764, count_observations=121, weights_mean=78.5, weights_std=186, weights_min=1]INFO:microcalibrate.reweight:Within 10% from targets: 66.67% \n",
      "\n",
      "INFO:microcalibrate.reweight:Epoch  320: Loss = 0.076394, Change = 0.045141 (improving)\n",
      "Reweighting progress:  62%|██████▏   | 327/528 [00:03<00:02, 78.04epoch/s, loss=0.0354, count_observations=121, weights_mean=101, weights_std=241, weights_min=1]  INFO:microcalibrate.reweight:Within 10% from targets: 66.67% \n",
      "\n",
      "INFO:microcalibrate.reweight:Epoch  330: Loss = 0.035433, Change = 0.040961 (improving)\n",
      "Reweighting progress:  64%|██████▎   | 336/528 [00:03<00:02, 72.90epoch/s, loss=0.00849, count_observations=121, weights_mean=126, weights_std=300, weights_min=1]INFO:microcalibrate.reweight:Within 10% from targets: 66.67% \n",
      "\n",
      "INFO:microcalibrate.reweight:Epoch  340: Loss = 0.008494, Change = 0.026939 (improving)\n",
      "Reweighting progress:  65%|██████▌   | 344/528 [00:03<00:02, 72.41epoch/s, loss=0.000126, count_observations=121, weights_mean=147, weights_std=350, weights_min=1]INFO:microcalibrate.reweight:Within 10% from targets: 100.00% \n",
      "\n",
      "INFO:microcalibrate.reweight:Epoch  350: Loss = 0.000126, Change = 0.008368 (improving)\n",
      "Reweighting progress:  67%|██████▋   | 353/528 [00:03<00:02, 76.36epoch/s, loss=0.000693, count_observations=121, weights_mean=156, weights_std=373, weights_min=1]INFO:microcalibrate.reweight:Within 10% from targets: 100.00% \n",
      "\n",
      "INFO:microcalibrate.reweight:Epoch  360: Loss = 0.000693, Change = -0.000567 (worsening)\n",
      "Reweighting progress:  69%|██████▉   | 363/528 [00:03<00:02, 81.00epoch/s, loss=0.000516, count_observations=121, weights_mean=156, weights_std=371, weights_min=1]INFO:microcalibrate.reweight:Within 10% from targets: 100.00% \n",
      "\n",
      "INFO:microcalibrate.reweight:Epoch  370: Loss = 0.000516, Change = 0.000177 (improving)\n",
      "Reweighting progress:  71%|███████   | 375/528 [00:03<00:01, 89.65epoch/s, loss=4.53e-5, count_observations=121, weights_mean=151, weights_std=361, weights_min=1] INFO:microcalibrate.reweight:Within 10% from targets: 100.00% \n",
      "\n",
      "INFO:microcalibrate.reweight:Epoch  380: Loss = 0.000045, Change = 0.000471 (improving)\n",
      "Reweighting progress:  73%|███████▎  | 385/528 [00:04<00:01, 90.51epoch/s, loss=9.4e-6, count_observations=121, weights_mean=149, weights_std=355, weights_min=1] INFO:microcalibrate.reweight:Within 10% from targets: 100.00% \n",
      "\n",
      "INFO:microcalibrate.reweight:Epoch  390: Loss = 0.000009, Change = 0.000036 (improving)\n",
      "Reweighting progress:  75%|███████▍  | 395/528 [00:04<00:01, 89.69epoch/s, loss=2.11e-5, count_observations=121, weights_mean=149, weights_std=354, weights_min=1]INFO:microcalibrate.reweight:Within 10% from targets: 100.00% \n",
      "\n",
      "INFO:microcalibrate.reweight:Epoch  400: Loss = 0.000021, Change = -0.000012 (worsening)\n",
      "Reweighting progress:  77%|███████▋  | 405/528 [00:04<00:01, 77.89epoch/s, loss=4.98e-6, count_observations=121, weights_mean=149, weights_std=356, weights_min=1]INFO:microcalibrate.reweight:Within 10% from targets: 100.00% \n",
      "\n",
      "INFO:microcalibrate.reweight:Epoch  410: Loss = 0.000005, Change = 0.000016 (improving)\n",
      "Reweighting progress:  78%|███████▊  | 414/528 [00:04<00:01, 62.97epoch/s, loss=1.57e-9, count_observations=121, weights_mean=150, weights_std=357, weights_min=1]INFO:microcalibrate.reweight:Within 10% from targets: 100.00% \n",
      "\n",
      "INFO:microcalibrate.reweight:Epoch  420: Loss = 0.000000, Change = 0.000005 (improving)\n",
      "Reweighting progress:  80%|███████▉  | 422/528 [00:04<00:01, 66.01epoch/s, loss=6.66e-7, count_observations=121, weights_mean=150, weights_std=358, weights_min=1]INFO:microcalibrate.reweight:Within 10% from targets: 100.00% \n",
      "\n",
      "INFO:microcalibrate.reweight:Epoch  430: Loss = 0.000001, Change = -0.000001 (worsening)\n",
      "Reweighting progress:  82%|████████▏ | 431/528 [00:04<00:01, 69.60epoch/s, loss=2.98e-7, count_observations=121, weights_mean=150, weights_std=357, weights_min=1]INFO:microcalibrate.reweight:Within 10% from targets: 100.00% \n",
      "\n",
      "INFO:microcalibrate.reweight:Epoch  440: Loss = 0.000000, Change = 0.000000 (improving)\n",
      "Reweighting progress:  84%|████████▎ | 442/528 [00:05<00:01, 78.42epoch/s, loss=6.92e-9, count_observations=121, weights_mean=150, weights_std=357, weights_min=1]INFO:microcalibrate.reweight:Within 10% from targets: 100.00% \n",
      "\n",
      "INFO:microcalibrate.reweight:Epoch  450: Loss = 0.000000, Change = 0.000000 (improving)\n",
      "Reweighting progress:  85%|████████▌ | 451/528 [00:05<00:01, 59.90epoch/s, loss=1.87e-8, count_observations=121, weights_mean=150, weights_std=357, weights_min=1]INFO:microcalibrate.reweight:Within 10% from targets: 100.00% \n",
      "\n",
      "INFO:microcalibrate.reweight:Epoch  460: Loss = 0.000000, Change = -0.000000 (worsening)\n",
      "Reweighting progress:  87%|████████▋ | 461/528 [00:05<00:01, 64.58epoch/s, loss=1.43e-8, count_observations=121, weights_mean=150, weights_std=357, weights_min=1]INFO:microcalibrate.reweight:Within 10% from targets: 100.00% \n",
      "\n",
      "INFO:microcalibrate.reweight:Epoch  470: Loss = 0.000000, Change = 0.000000 (improving)\n",
      "Reweighting progress:  89%|████████▉ | 471/528 [00:05<00:00, 70.97epoch/s, loss=9.17e-10, count_observations=121, weights_mean=150, weights_std=357, weights_min=1]INFO:microcalibrate.reweight:Within 10% from targets: 100.00% \n",
      "\n",
      "INFO:microcalibrate.reweight:Epoch  480: Loss = 0.000000, Change = 0.000000 (improving)\n",
      "Reweighting progress:  92%|█████████▏| 484/528 [00:05<00:00, 84.52epoch/s, loss=5.09e-10, count_observations=121, weights_mean=150, weights_std=357, weights_min=1]INFO:microcalibrate.reweight:Within 10% from targets: 100.00% \n",
      "\n",
      "INFO:microcalibrate.reweight:Epoch  490: Loss = 0.000000, Change = 0.000000 (improving)\n",
      "Reweighting progress:  94%|█████████▎| 494/528 [00:05<00:00, 88.22epoch/s, loss=6.28e-10, count_observations=121, weights_mean=150, weights_std=357, weights_min=1]INFO:microcalibrate.reweight:Within 10% from targets: 100.00% \n",
      "\n",
      "INFO:microcalibrate.reweight:Epoch  500: Loss = 0.000000, Change = -0.000000 (worsening)\n",
      "Reweighting progress:  95%|█████████▌| 504/528 [00:05<00:00, 89.80epoch/s, loss=5.96e-11, count_observations=121, weights_mean=150, weights_std=357, weights_min=1]INFO:microcalibrate.reweight:Within 10% from targets: 100.00% \n",
      "\n",
      "INFO:microcalibrate.reweight:Epoch  510: Loss = 0.000000, Change = 0.000000 (improving)\n",
      "Reweighting progress:  97%|█████████▋| 514/528 [00:05<00:00, 81.71epoch/s, loss=1.69e-11, count_observations=121, weights_mean=150, weights_std=357, weights_min=1]INFO:microcalibrate.reweight:Within 10% from targets: 100.00% \n",
      "\n",
      "INFO:microcalibrate.reweight:Epoch  520: Loss = 0.000000, Change = 0.000000 (improving)\n",
      "Reweighting progress: 100%|██████████| 528/528 [00:06<00:00, 86.82epoch/s, loss=1.69e-11, count_observations=121, weights_mean=150, weights_std=357, weights_min=1]\n",
      "INFO:microcalibrate.reweight:Reweighting completed. Final sample size: 121\n"
     ]
    },
    {
     "name": "stdout",
     "output_type": "stream",
     "text": [
      "Original dataset size: 121\n",
      "Calibrated dataset size: 121\n",
      "Number of calibrated weights: 121\n"
     ]
    }
   ],
   "source": [
    "# Initialize the Calibration object\n",
    "calibrator = Calibration(\n",
    "    # I'm a little confused between loss_matrix and targets (which is an array)\n",
    "    loss_matrix=targets_matrix,\n",
    "    weights=weights, \n",
    "    # Check that I used the right number of levels of targets. \n",
    "    targets=targets,\n",
    "    noise_level=0.05,\n",
    "    epochs=528,\n",
    "    learning_rate=0.01,\n",
    "    dropout_rate=0,\n",
    "    subsample_every=0,\n",
    ")\n",
    "\n",
    "# Perform the calibration\n",
    "performance_df = calibrator.calibrate()\n",
    "\n",
    "print(f\"Original dataset size: {len(targets_matrix)}\")\n",
    "print(f\"Calibrated dataset size: {len(calibrator.loss_matrix)}\")\n",
    "print(f\"Number of calibrated weights: {len(calibrator.weights)}\")"
   ]
  }
 ],
 "metadata": {
  "kernelspec": {
   "display_name": ".venv",
   "language": "python",
   "name": "python3"
  },
  "language_info": {
   "codemirror_mode": {
    "name": "ipython",
    "version": 3
   },
   "file_extension": ".py",
   "mimetype": "text/x-python",
   "name": "python",
   "nbconvert_exporter": "python",
   "pygments_lexer": "ipython3",
   "version": "3.11.13"
  }
 },
 "nbformat": 4,
 "nbformat_minor": 5
}
