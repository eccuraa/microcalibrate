{
 "cells": [
  {
   "cell_type": "markdown",
   "id": "45a6c2e4",
   "metadata": {},
   "source": [
    "# Example of age calibration on real CPS data for one district and national targets"
   ]
  },
  {
   "cell_type": "markdown",
   "id": "b2f7a225",
   "metadata": {},
   "source": [
    "### Install packages"
   ]
  },
  {
   "cell_type": "code",
   "execution_count": 1,
   "id": "8fc312ca",
   "metadata": {},
   "outputs": [
    {
     "name": "stderr",
     "output_type": "stream",
     "text": [
      "/Users/elenacura/Desktop/PolicyEngine/microcalibrate/.venv/lib/python3.11/site-packages/tqdm/auto.py:21: TqdmWarning: IProgress not found. Please update jupyter and ipywidgets. See https://ipywidgets.readthedocs.io/en/stable/user_install.html\n",
      "  from .autonotebook import tqdm as notebook_tqdm\n"
     ]
    }
   ],
   "source": [
    "from microcalibrate.calibration import Calibration\n",
    "import logging\n",
    "import numpy as np\n",
    "import pandas as pd\n",
    "import plotly.graph_objs as go\n",
    "from plotly.subplots import make_subplots\n",
    "from policyengine_core.data import Dataset\n",
    "\n",
    "logging.basicConfig(\n",
    "    level=logging.INFO,\n",
    ")"
   ]
  },
  {
   "cell_type": "markdown",
   "id": "24a55db2",
   "metadata": {},
   "source": [
    "## Change original sample dataset to 2024 small enhanced CPS dataset"
   ]
  },
  {
   "cell_type": "markdown",
   "id": "4e960595",
   "metadata": {},
   "source": [
    "#### More imports for data import"
   ]
  },
  {
   "cell_type": "code",
   "execution_count": 2,
   "id": "66b3f170",
   "metadata": {},
   "outputs": [],
   "source": [
    "from microcalibrate.data import get_dataset \n"
   ]
  },
  {
   "cell_type": "markdown",
   "id": "945f8ad7",
   "metadata": {},
   "source": [
    "### Load the dataframe\n",
    "##### I chose to include household ID and then drop it after to ensure each individual corresponded to a household, given we are doing a household level analysis. I also loaded the weights with the column data to ensure they match."
   ]
  },
  {
   "cell_type": "markdown",
   "id": "f9a83eda",
   "metadata": {},
   "source": [
    "#### TODO: Wide to long conversion\n",
    "My current plan: \n",
    "1. I would need to add a column to df_age_nworth that indicates the district the household belongs to. \n",
    "2. Then, I imagine that I would need to copy the dataset and paste all households once for each district, just changing the value of the district column.\n",
    "   1. Should I do all districts in virginia to start? or one district in virginia and leave the rest of ALL national districts uncalibrated, to start. \n",
    "3. Then make the weights more than just a single array. Add several levels of targets."
   ]
  },
  {
   "cell_type": "code",
   "execution_count": 3,
   "id": "dbc7a8e5",
   "metadata": {},
   "outputs": [],
   "source": [
    "# Load the data \n",
    "df_age_nworth = get_dataset()\n",
    "\n",
    "# Remove the household_id column\n",
    "df_age_nworth.drop(columns=[\"household_id/2024\"], inplace=True)\n",
    "\n",
    "# Extract the weights for calibration\n",
    "df_init_weights = df_age_nworth.pop(\"household_weight/2024\")\n",
    "\n",
    "# Convert weights to an array (just in case??)\n",
    "weights_array = df_init_weights.values\n",
    "\n",
    "# Asserting the dataframes have the same length, as an extra check that the weights line up with the data.\n",
    "assert(len(df_age_nworth) == len(weights_array))"
   ]
  },
  {
   "cell_type": "markdown",
   "id": "7e67505c",
   "metadata": {},
   "source": [
    "## Bring in Ben's age target .csv.\n",
    "\n",
    "### Starting with national calibration, then adding district level (maybe then state)"
   ]
  },
  {
   "cell_type": "code",
   "execution_count": 4,
   "id": "a513b9d9",
   "metadata": {},
   "outputs": [],
   "source": [
    "# Calculate target values: total income for age groups 20-30 and 40-50 (as an example) or employ existing targets\n",
    "# Should this be reverted back to age values, as I'm just calibrating age here?? I'm confused because it's too late in the day.\n",
    "income_matrix = pd.DataFrame({\n",
    "    \"income_aged_20_30\": ((df_age_nworth[\"age/2024\"] >= 25) & (df_age_nworth[\"age/2024\"] <= 29)).astype(float) * df_age_nworth[\"net_worth/2024\"],\n",
    "    \"income_aged_40_50\": ((df_age_nworth[\"age/2024\"] >= 40) & (df_age_nworth[\"age/2024\"] <= 44)).astype(float) * df_age_nworth[\"net_worth/2024\"],\n",
    "    \"income_aged_71\" : (df_age_nworth[\"age/2024\"] >= 85).astype(float) * df_age_nworth[\"net_worth/2024\"],\n",
    "})\n",
    "\n",
    "age_matrix = pd.DataFrame({\n",
    "    \"income_aged_25_29\": ((df_age_nworth[\"age/2024\"] >= 25) & (df_age_nworth[\"age/2024\"] <= 29)).astype(float),\n",
    "    \"income_aged_40_44\": ((df_age_nworth[\"age/2024\"] >= 40) & (df_age_nworth[\"age/2024\"] <= 44)).astype(float),\n",
    "    \"income_aged_85_more\" : (df_age_nworth[\"age/2024\"] >= 85).astype(float),\n",
    "})"
   ]
  },
  {
   "cell_type": "code",
   "execution_count": 5,
   "id": "07877a37",
   "metadata": {},
   "outputs": [],
   "source": [
    "## Replace with Ben's (national) targets. This might not change the dataframe much, but it's a starting place.\n",
    "\n",
    "targets_df = pd.read_csv(\"National_Age_Demographics.csv\")\n",
    "\n",
    "# question: Are these age values being multiplied by the right weights?? I'm doubting if these are the right targets.\n",
    "targets = np.array([\n",
    "    (targets_df[\"25-29\"] * df_init_weights).sum(), \n",
    "    (targets_df[\"40-44\"] * df_init_weights).sum(), \n",
    "    (targets_df[\"85+\"] * df_init_weights).sum()\n",
    "])\n"
   ]
  },
  {
   "cell_type": "code",
   "execution_count": null,
   "id": "56ad1024",
   "metadata": {},
   "outputs": [
    {
     "name": "stderr",
     "output_type": "stream",
     "text": [
      "INFO:microcalibrate.calibration:Performing basic target assessment...\n",
      "WARNING:microcalibrate.calibration:Target income_aged_25_29 (3.28e+12) differs from initial estimate (3.90e+01) by 10.92 orders of magnitude.\n",
      "WARNING:microcalibrate.calibration:Target income_aged_40_44 (3.31e+12) differs from initial estimate (3.40e+01) by 10.99 orders of magnitude.\n",
      "WARNING:microcalibrate.calibration:Target income_aged_85_more (9.16e+11) differs from initial estimate (2.10e+01) by 10.64 orders of magnitude.\n",
      "INFO:microcalibrate.reweight:Starting calibration process for targets ['income_aged_25_29' 'income_aged_40_44' 'income_aged_85_more']: [3.27757866e+12 3.31046097e+12 9.15955117e+11]\n",
      "INFO:microcalibrate.reweight:Original weights - mean: 223306.4062, std: 175018.2344\n",
      "INFO:microcalibrate.reweight:Initial weights after noise - mean: 223306.4688, std: 175018.2344\n"
     ]
    }
   ],
   "source": [
    "# Initialize the Calibration object\n",
    "calibrator = Calibration(\n",
    "    # I'm a little confused between loss_matrix and targets (which is an array)\n",
    "    loss_matrix=age_matrix,\n",
    "    weights=df_init_weights, \n",
    "    # Check that I used the right number of levels of targets. \n",
    "    targets=targets,\n",
    "    noise_level=0.05,\n",
    "    epochs=528, # \n",
    "    learning_rate=0.01,\n",
    "    dropout_rate=0,\n",
    "    subsample_every=0,\n",
    ")\n",
    "\n",
    "# Perform the calibration\n",
    "performance_df = calibrator.calibrate()\n",
    "\n",
    "print(f\"Original dataset size: {len(targets_matrix)}\")\n",
    "print(f\"Calibrated dataset size: {len(calibrator.loss_matrix)}\")\n",
    "print(f\"Number of calibrated weights: {len(calibrator.weights)}\")"
   ]
  },
  {
   "cell_type": "code",
   "execution_count": null,
   "id": "98b310b6",
   "metadata": {},
   "outputs": [
    {
     "name": "stdout",
     "output_type": "stream",
     "text": [
      "Target totals: [3.27757866e+12 3.31046097e+12 9.15955117e+11]\n",
      "Final calibrated totals: [5.58919295e+18 2.37749161e+18 9.84521001e+09]\n",
      "Difference: [ 5.58918967e+18  2.37748830e+18 -9.06109907e+11]\n",
      "Relative error: [ 1.70528010e+08  7.18174393e+07 -9.89251427e+01]\n"
     ]
    }
   ],
   "source": [
    "# Calculate final weighted totals\n",
    "final_totals = targets_matrix.mul(calibrator.weights, axis=0).sum().values\n",
    "\n",
    "print(f\"Target totals: {targets}\")\n",
    "print(f\"Final calibrated totals: {final_totals}\")\n",
    "print(f\"Difference: {final_totals - targets}\")\n",
    "print(f\"Relative error: {(final_totals - targets) / targets * 100}\")"
   ]
  },
  {
   "cell_type": "markdown",
   "id": "5381d5e9",
   "metadata": {},
   "source": [
    "Failed to pass tolerance level boundary."
   ]
  },
  {
   "cell_type": "code",
   "execution_count": null,
   "id": "b4f84e94",
   "metadata": {},
   "outputs": [
    {
     "ename": "AssertionError",
     "evalue": "\nNot equal to tolerance rtol=0.01, atol=0\nCalibrated totals do not match target values\nMismatched elements: 3 / 3 (100%)\nMax absolute difference: 5.58918967e+18\nMax relative difference: 1705280.10025668\n x: array([5.589193e+18, 2.377492e+18, 9.845210e+09])\n y: array([3.277579e+12, 3.310461e+12, 9.159551e+11])",
     "output_type": "error",
     "traceback": [
      "\u001b[0;31m---------------------------------------------------------------------------\u001b[0m",
      "\u001b[0;31mAssertionError\u001b[0m                            Traceback (most recent call last)",
      "Cell \u001b[0;32mIn[32], line 1\u001b[0m\n\u001b[0;32m----> 1\u001b[0m \u001b[43mnp\u001b[49m\u001b[38;5;241;43m.\u001b[39;49m\u001b[43mtesting\u001b[49m\u001b[38;5;241;43m.\u001b[39;49m\u001b[43massert_allclose\u001b[49m\u001b[43m(\u001b[49m\n\u001b[1;32m      2\u001b[0m \u001b[43m        \u001b[49m\u001b[43mfinal_totals\u001b[49m\u001b[43m,\u001b[49m\n\u001b[1;32m      3\u001b[0m \u001b[43m        \u001b[49m\u001b[43mtargets\u001b[49m\u001b[43m,\u001b[49m\n\u001b[1;32m      4\u001b[0m \u001b[43m        \u001b[49m\u001b[43mrtol\u001b[49m\u001b[38;5;241;43m=\u001b[39;49m\u001b[38;5;241;43m0.01\u001b[39;49m\u001b[43m,\u001b[49m\u001b[43m  \u001b[49m\u001b[38;5;66;43;03m# relative tolerance\u001b[39;49;00m\n\u001b[1;32m      5\u001b[0m \u001b[43m        \u001b[49m\u001b[43merr_msg\u001b[49m\u001b[38;5;241;43m=\u001b[39;49m\u001b[38;5;124;43m\"\u001b[39;49m\u001b[38;5;124;43mCalibrated totals do not match target values\u001b[39;49m\u001b[38;5;124;43m\"\u001b[39;49m\u001b[43m,\u001b[49m\n\u001b[1;32m      6\u001b[0m \u001b[43m    \u001b[49m\u001b[43m)\u001b[49m\n",
      "    \u001b[0;31m[... skipping hidden 1 frame]\u001b[0m\n",
      "File \u001b[0;32m/opt/homebrew/Cellar/python@3.11/3.11.13/Frameworks/Python.framework/Versions/3.11/lib/python3.11/contextlib.py:81\u001b[0m, in \u001b[0;36mContextDecorator.__call__.<locals>.inner\u001b[0;34m(*args, **kwds)\u001b[0m\n\u001b[1;32m     78\u001b[0m \u001b[38;5;129m@wraps\u001b[39m(func)\n\u001b[1;32m     79\u001b[0m \u001b[38;5;28;01mdef\u001b[39;00m\u001b[38;5;250m \u001b[39m\u001b[38;5;21minner\u001b[39m(\u001b[38;5;241m*\u001b[39margs, \u001b[38;5;241m*\u001b[39m\u001b[38;5;241m*\u001b[39mkwds):\n\u001b[1;32m     80\u001b[0m     \u001b[38;5;28;01mwith\u001b[39;00m \u001b[38;5;28mself\u001b[39m\u001b[38;5;241m.\u001b[39m_recreate_cm():\n\u001b[0;32m---> 81\u001b[0m         \u001b[38;5;28;01mreturn\u001b[39;00m \u001b[43mfunc\u001b[49m\u001b[43m(\u001b[49m\u001b[38;5;241;43m*\u001b[39;49m\u001b[43margs\u001b[49m\u001b[43m,\u001b[49m\u001b[43m \u001b[49m\u001b[38;5;241;43m*\u001b[39;49m\u001b[38;5;241;43m*\u001b[39;49m\u001b[43mkwds\u001b[49m\u001b[43m)\u001b[49m\n",
      "File \u001b[0;32m~/Desktop/PolicyEngine/microcalibrate/.venv/lib/python3.11/site-packages/numpy/testing/_private/utils.py:797\u001b[0m, in \u001b[0;36massert_array_compare\u001b[0;34m(comparison, x, y, err_msg, verbose, header, precision, equal_nan, equal_inf, strict)\u001b[0m\n\u001b[1;32m    793\u001b[0m         err_msg \u001b[38;5;241m+\u001b[39m\u001b[38;5;241m=\u001b[39m \u001b[38;5;124m'\u001b[39m\u001b[38;5;130;01m\\n\u001b[39;00m\u001b[38;5;124m'\u001b[39m \u001b[38;5;241m+\u001b[39m \u001b[38;5;124m'\u001b[39m\u001b[38;5;130;01m\\n\u001b[39;00m\u001b[38;5;124m'\u001b[39m\u001b[38;5;241m.\u001b[39mjoin(remarks)\n\u001b[1;32m    794\u001b[0m         msg \u001b[38;5;241m=\u001b[39m build_err_msg([ox, oy], err_msg,\n\u001b[1;32m    795\u001b[0m                             verbose\u001b[38;5;241m=\u001b[39mverbose, header\u001b[38;5;241m=\u001b[39mheader,\n\u001b[1;32m    796\u001b[0m                             names\u001b[38;5;241m=\u001b[39m(\u001b[38;5;124m'\u001b[39m\u001b[38;5;124mx\u001b[39m\u001b[38;5;124m'\u001b[39m, \u001b[38;5;124m'\u001b[39m\u001b[38;5;124my\u001b[39m\u001b[38;5;124m'\u001b[39m), precision\u001b[38;5;241m=\u001b[39mprecision)\n\u001b[0;32m--> 797\u001b[0m         \u001b[38;5;28;01mraise\u001b[39;00m \u001b[38;5;167;01mAssertionError\u001b[39;00m(msg)\n\u001b[1;32m    798\u001b[0m \u001b[38;5;28;01mexcept\u001b[39;00m \u001b[38;5;167;01mValueError\u001b[39;00m:\n\u001b[1;32m    799\u001b[0m     \u001b[38;5;28;01mimport\u001b[39;00m\u001b[38;5;250m \u001b[39m\u001b[38;5;21;01mtraceback\u001b[39;00m\n",
      "\u001b[0;31mAssertionError\u001b[0m: \nNot equal to tolerance rtol=0.01, atol=0\nCalibrated totals do not match target values\nMismatched elements: 3 / 3 (100%)\nMax absolute difference: 5.58918967e+18\nMax relative difference: 1705280.10025668\n x: array([5.589193e+18, 2.377492e+18, 9.845210e+09])\n y: array([3.277579e+12, 3.310461e+12, 9.159551e+11])"
     ]
    }
   ],
   "source": [
    "np.testing.assert_allclose(\n",
    "        final_totals,\n",
    "        targets,\n",
    "        rtol=0.01,  # relative tolerance\n",
    "        err_msg=\"Calibrated totals do not match target values\",\n",
    "    )"
   ]
  },
  {
   "cell_type": "code",
   "execution_count": null,
   "id": "655b828d",
   "metadata": {},
   "outputs": [
    {
     "data": {
      "text/html": [
       "<div>\n",
       "<style scoped>\n",
       "    .dataframe tbody tr th:only-of-type {\n",
       "        vertical-align: middle;\n",
       "    }\n",
       "\n",
       "    .dataframe tbody tr th {\n",
       "        vertical-align: top;\n",
       "    }\n",
       "\n",
       "    .dataframe thead th {\n",
       "        text-align: right;\n",
       "    }\n",
       "</style>\n",
       "<table border=\"1\" class=\"dataframe\">\n",
       "  <thead>\n",
       "    <tr style=\"text-align: right;\">\n",
       "      <th></th>\n",
       "      <th>epoch</th>\n",
       "      <th>loss</th>\n",
       "      <th>target_name</th>\n",
       "      <th>target</th>\n",
       "      <th>estimate</th>\n",
       "      <th>error</th>\n",
       "      <th>abs_error</th>\n",
       "      <th>rel_abs_error</th>\n",
       "    </tr>\n",
       "  </thead>\n",
       "  <tbody>\n",
       "    <tr>\n",
       "      <th>0</th>\n",
       "      <td>0</td>\n",
       "      <td>0.999994</td>\n",
       "      <td>income_aged_25_29</td>\n",
       "      <td>3.277579e+12</td>\n",
       "      <td>8079228.5</td>\n",
       "      <td>-3.277570e+12</td>\n",
       "      <td>3.277570e+12</td>\n",
       "      <td>0.999998</td>\n",
       "    </tr>\n",
       "    <tr>\n",
       "      <th>1</th>\n",
       "      <td>0</td>\n",
       "      <td>0.999994</td>\n",
       "      <td>income_aged_40_44</td>\n",
       "      <td>3.310461e+12</td>\n",
       "      <td>7181536.0</td>\n",
       "      <td>-3.310454e+12</td>\n",
       "      <td>3.310454e+12</td>\n",
       "      <td>0.999998</td>\n",
       "    </tr>\n",
       "    <tr>\n",
       "      <th>2</th>\n",
       "      <td>0</td>\n",
       "      <td>0.999994</td>\n",
       "      <td>income_aged_85_more</td>\n",
       "      <td>9.159551e+11</td>\n",
       "      <td>4189229.5</td>\n",
       "      <td>-9.159509e+11</td>\n",
       "      <td>9.159509e+11</td>\n",
       "      <td>0.999995</td>\n",
       "    </tr>\n",
       "    <tr>\n",
       "      <th>3</th>\n",
       "      <td>10</td>\n",
       "      <td>0.999993</td>\n",
       "      <td>income_aged_25_29</td>\n",
       "      <td>3.277579e+12</td>\n",
       "      <td>8770566.0</td>\n",
       "      <td>-3.277570e+12</td>\n",
       "      <td>3.277570e+12</td>\n",
       "      <td>0.999997</td>\n",
       "    </tr>\n",
       "    <tr>\n",
       "      <th>4</th>\n",
       "      <td>10</td>\n",
       "      <td>0.999993</td>\n",
       "      <td>income_aged_40_44</td>\n",
       "      <td>3.310461e+12</td>\n",
       "      <td>7796380.5</td>\n",
       "      <td>-3.310453e+12</td>\n",
       "      <td>3.310453e+12</td>\n",
       "      <td>0.999998</td>\n",
       "    </tr>\n",
       "  </tbody>\n",
       "</table>\n",
       "</div>"
      ],
      "text/plain": [
       "   epoch      loss          target_name        target   estimate  \\\n",
       "0      0  0.999994    income_aged_25_29  3.277579e+12  8079228.5   \n",
       "1      0  0.999994    income_aged_40_44  3.310461e+12  7181536.0   \n",
       "2      0  0.999994  income_aged_85_more  9.159551e+11  4189229.5   \n",
       "3     10  0.999993    income_aged_25_29  3.277579e+12  8770566.0   \n",
       "4     10  0.999993    income_aged_40_44  3.310461e+12  7796380.5   \n",
       "\n",
       "          error     abs_error  rel_abs_error  \n",
       "0 -3.277570e+12  3.277570e+12       0.999998  \n",
       "1 -3.310454e+12  3.310454e+12       0.999998  \n",
       "2 -9.159509e+11  9.159509e+11       0.999995  \n",
       "3 -3.277570e+12  3.277570e+12       0.999997  \n",
       "4 -3.310453e+12  3.310453e+12       0.999998  "
      ]
     },
     "execution_count": 33,
     "metadata": {},
     "output_type": "execute_result"
    }
   ],
   "source": [
    "performance_df.head()"
   ]
  }
 ],
 "metadata": {
  "kernelspec": {
   "display_name": ".venv",
   "language": "python",
   "name": "python3"
  },
  "language_info": {
   "codemirror_mode": {
    "name": "ipython",
    "version": 3
   },
   "file_extension": ".py",
   "mimetype": "text/x-python",
   "name": "python",
   "nbconvert_exporter": "python",
   "pygments_lexer": "ipython3",
   "version": "3.11.13"
  }
 },
 "nbformat": 4,
 "nbformat_minor": 5
}
