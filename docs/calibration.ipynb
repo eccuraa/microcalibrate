{
 "cells": [
  {
   "cell_type": "markdown",
   "id": "b375e2dd",
   "metadata": {},
   "source": [
    "## Calibration\n",
    "\n",
    "The `Calibration` class provides a way to adjust weights of observations in a dataset to match specified target values. This is commonly used in survey research and policy modeling for rebalancing datasets to better represent desired population characteristics. \n",
    "\n",
    "The calibration process uses an optimization algorithm to find weights that minimize the distance from the original weights while achieving the target constraints.\n",
    "\n",
    "## Basic usage\n",
    "\n",
    "### Parameters\n",
    "\n",
    "`__init__(data, weights, targets)`\n",
    "\n",
    "- `data` (pd.DataFrame): The dataset to be calibrated. This should contain all the variables you want to use for calibration.\n",
    "- `weights` (np.ndarray): Initial weights for each observation in the dataset. Typically starts as an array of ones for equal weighting.\n",
    "- `targets` (np.ndarray): Target values that the calibration process should achieve. These correspond to the desired weighted sums.\n",
    "\n",
    "Calibration can be easily done by initializing the `Calibration` class, passing in the parameters above. Then `calibrate()` method performs the actual calibration using the reweight function. This method:\n",
    "- Adjusts the weights to better match the target values\n",
    "- May subsample the data for efficiency\n",
    "- Updates both `self.weights` and `self.data` with the calibrated results\n",
    "\n",
    "## Example\n",
    "\n",
    "Below is a complete example showing how to calibrate a dataset to match income targets for specific age groups:"
   ]
  },
  {
   "cell_type": "code",
   "execution_count": 1,
   "id": "vxj460xngvg",
   "metadata": {},
   "outputs": [
    {
     "name": "stdout",
     "output_type": "stream",
     "text": [
      "Original weights: [1. 1. 1. 1. 1. 1. 1. 1. 1. 1. 1. 1. 1. 1. 1. 1. 1. 1. 1. 1. 1. 1. 1. 1.\n",
      " 1. 1. 1. 1. 1. 1. 1. 1. 1. 1. 1. 1. 1. 1. 1. 1. 1. 1. 1. 1. 1. 1. 1. 1.\n",
      " 1. 1. 1. 1. 1. 1. 1. 1. 1. 1. 1. 1. 1. 1. 1. 1. 1. 1. 1. 1. 1. 1. 1. 1.\n",
      " 1. 1. 1. 1. 1. 1. 1. 1. 1. 1. 1. 1. 1. 1. 1. 1. 1. 1. 1. 1. 1. 1. 1. 1.\n",
      " 1. 1. 1. 1. 1. 1. 1. 1. 1. 1. 1. 1. 1. 1. 1. 1. 1. 1. 1. 1. 1. 1. 1. 1.\n",
      " 1.]\n",
      "Original targets: [7.37032429e+08 9.76779350e+05 4.36479914e+04]\n"
     ]
    }
   ],
   "source": [
    "from microcalibrate.calibration import Calibration\n",
    "import logging\n",
    "import numpy as np\n",
    "import pandas as pd\n",
    "import plotly.graph_objs as go\n",
    "from plotly.subplots import make_subplots\n",
    "\n",
    "logging.basicConfig(\n",
    "    level=logging.INFO,\n",
    ")\n",
    "\n",
    "# Create a sample dataset with age and income data\n",
    "random_generator = np.random.default_rng(0)\n",
    "data = pd.DataFrame({\n",
    "    \"age\": np.append(random_generator.integers(18, 70, size=120), 71), \n",
    "    \"income\": random_generator.normal(40000, 10000, size=121),\n",
    "})\n",
    "\n",
    "# Set initial weights (all one in this example)\n",
    "weights = np.ones(len(data))\n",
    "\n",
    "# Calculate target values: total income for age groups 20-30 and 40-50 (as an example) or employ existing targets\n",
    "targets_matrix = pd.DataFrame({\n",
    "    \"income_aged_20_30\": ((data[\"age\"] >= 20) & (data[\"age\"] <= 30)).astype(float) * data[\"income\"],\n",
    "    \"income_aged_40_50\": ((data[\"age\"] >= 40) & (data[\"age\"] <= 50)).astype(float) * data[\"income\"],\n",
    "    \"income_aged_71\" : (data[\"age\"] == 71).astype(float) * data[\"income\"],\n",
    "})\n",
    "\n",
    "# 15% higher than the sum of data with the original weights\n",
    "targets = np.array([\n",
    "    (targets_matrix[\"income_aged_20_30\"] * weights * 1000).sum(), \n",
    "    (targets_matrix[\"income_aged_40_50\"] * weights * 1.15).sum(), \n",
    "    (targets_matrix[\"income_aged_71\"] * weights * 1.15).sum()\n",
    "])\n",
    "\n",
    "print(f\"Original weights: {weights}\")\n",
    "print(f\"Original targets: {targets}\")"
   ]
  },
  {
   "cell_type": "code",
   "execution_count": 2,
   "id": "xfw94bs21yl",
   "metadata": {},
   "outputs": [
    {
     "name": "stderr",
     "output_type": "stream",
     "text": [
      "INFO:microcalibrate.calibration:Performing basic target assessment...\n",
      "WARNING:microcalibrate.calibration:Target income_aged_20_30 (7.37e+08) differs from initial estimate (7.37e+05) by 3.00 orders of magnitude.\n",
      "WARNING:microcalibrate.calibration:Target income_aged_71 is supported by only 0.83% of records in the loss matrix. This may make calibration unstable or ineffective.\n",
      "INFO:microcalibrate.reweight:Starting calibration process for targets ['income_aged_20_30' 'income_aged_40_50' 'income_aged_71']: [7.37032429e+08 9.76779350e+05 4.36479914e+04]\n",
      "INFO:microcalibrate.reweight:Original weights - mean: 1.0000, std: 0.0000\n",
      "INFO:microcalibrate.reweight:Initial weights after noise - mean: 1.0260, std: 0.0147\n",
      "Reweighting progress:   0%|          | 0/528 [00:00<?, ?epoch/s, loss=0.341, count_observations=121, weights_mean=1.03, weights_std=0.0147, weights_min=1]INFO:microcalibrate.reweight:Within 10% from targets: 0.00% \n",
      "\n",
      "Reweighting progress:   0%|          | 1/528 [00:00<01:51,  4.73epoch/s, loss=0.333, count_observations=121, weights_mean=1.06, weights_std=0.0496, weights_min=1]INFO:microcalibrate.reweight:Within 10% from targets: 66.67% \n",
      "\n",
      "INFO:microcalibrate.reweight:Epoch   10: Loss = 0.333039, Change = 0.008360 (improving)\n",
      "Reweighting progress:   4%|▍         | 20/528 [00:00<00:06, 78.02epoch/s, loss=0.333, count_observations=121, weights_mean=1.09, weights_std=0.0914, weights_min=1]INFO:microcalibrate.reweight:Within 10% from targets: 66.67% \n",
      "\n",
      "INFO:microcalibrate.reweight:Epoch   20: Loss = 0.332977, Change = 0.000062 (improving)\n",
      "Reweighting progress:   4%|▍         | 20/528 [00:00<00:06, 78.02epoch/s, loss=0.333, count_observations=121, weights_mean=1.11, weights_std=0.131, weights_min=1] INFO:microcalibrate.reweight:Within 10% from targets: 66.67% \n",
      "\n",
      "INFO:microcalibrate.reweight:Epoch   30: Loss = 0.332515, Change = 0.000461 (improving)\n",
      "Reweighting progress:   7%|▋         | 38/528 [00:00<00:04, 114.57epoch/s, loss=0.332, count_observations=121, weights_mean=1.13, weights_std=0.184, weights_min=1]INFO:microcalibrate.reweight:Within 10% from targets: 66.67% \n",
      "\n",
      "INFO:microcalibrate.reweight:Epoch   40: Loss = 0.332355, Change = 0.000160 (improving)\n",
      "Reweighting progress:   7%|▋         | 38/528 [00:00<00:04, 114.57epoch/s, loss=0.332, count_observations=121, weights_mean=1.16, weights_std=0.249, weights_min=1]INFO:microcalibrate.reweight:Within 10% from targets: 66.67% \n",
      "\n",
      "INFO:microcalibrate.reweight:Epoch   50: Loss = 0.332190, Change = 0.000165 (improving)\n",
      "Reweighting progress:  11%|█         | 58/528 [00:00<00:03, 141.78epoch/s, loss=0.332, count_observations=121, weights_mean=1.19, weights_std=0.326, weights_min=1]INFO:microcalibrate.reweight:Within 10% from targets: 66.67% \n",
      "\n",
      "INFO:microcalibrate.reweight:Epoch   60: Loss = 0.332040, Change = 0.000150 (improving)\n",
      "Reweighting progress:  11%|█         | 58/528 [00:00<00:03, 141.78epoch/s, loss=0.332, count_observations=121, weights_mean=1.23, weights_std=0.418, weights_min=1]INFO:microcalibrate.reweight:Within 10% from targets: 66.67% \n",
      "\n",
      "INFO:microcalibrate.reweight:Epoch   70: Loss = 0.331859, Change = 0.000181 (improving)\n",
      "Reweighting progress:  15%|█▍        | 79/528 [00:00<00:02, 162.69epoch/s, loss=0.332, count_observations=121, weights_mean=1.27, weights_std=0.527, weights_min=1]INFO:microcalibrate.reweight:Within 10% from targets: 66.67% \n",
      "\n",
      "INFO:microcalibrate.reweight:Epoch   80: Loss = 0.331654, Change = 0.000204 (improving)\n",
      "Reweighting progress:  15%|█▍        | 79/528 [00:00<00:02, 162.69epoch/s, loss=0.331, count_observations=121, weights_mean=1.33, weights_std=0.659, weights_min=1]INFO:microcalibrate.reweight:Within 10% from targets: 66.67% \n",
      "\n",
      "INFO:microcalibrate.reweight:Epoch   90: Loss = 0.331407, Change = 0.000247 (improving)\n",
      "Reweighting progress:  19%|█▉        | 100/528 [00:00<00:02, 175.96epoch/s, loss=0.331, count_observations=121, weights_mean=1.39, weights_std=0.818, weights_min=1]INFO:microcalibrate.reweight:Within 10% from targets: 66.67% \n",
      "\n",
      "INFO:microcalibrate.reweight:Epoch  100: Loss = 0.331111, Change = 0.000297 (improving)\n",
      "Reweighting progress:  19%|█▉        | 100/528 [00:00<00:02, 175.96epoch/s, loss=0.331, count_observations=121, weights_mean=1.48, weights_std=1.01, weights_min=1] INFO:microcalibrate.reweight:Within 10% from targets: 66.67% \n",
      "\n",
      "INFO:microcalibrate.reweight:Epoch  110: Loss = 0.330750, Change = 0.000360 (improving)\n",
      "Reweighting progress:  23%|██▎       | 120/528 [00:00<00:02, 181.49epoch/s, loss=0.33, count_observations=121, weights_mean=1.57, weights_std=1.25, weights_min=1] INFO:microcalibrate.reweight:Within 10% from targets: 66.67% \n",
      "\n",
      "INFO:microcalibrate.reweight:Epoch  120: Loss = 0.330309, Change = 0.000441 (improving)\n",
      "Reweighting progress:  23%|██▎       | 120/528 [00:00<00:02, 181.49epoch/s, loss=0.33, count_observations=121, weights_mean=1.7, weights_std=1.54, weights_min=1] INFO:microcalibrate.reweight:Within 10% from targets: 66.67% \n",
      "\n",
      "INFO:microcalibrate.reweight:Epoch  130: Loss = 0.329767, Change = 0.000543 (improving)\n",
      "Reweighting progress:  27%|██▋       | 140/528 [00:00<00:02, 186.01epoch/s, loss=0.329, count_observations=121, weights_mean=1.85, weights_std=1.9, weights_min=1]INFO:microcalibrate.reweight:Within 10% from targets: 66.67% \n",
      "\n",
      "INFO:microcalibrate.reweight:Epoch  140: Loss = 0.329093, Change = 0.000673 (improving)\n",
      "Reweighting progress:  27%|██▋       | 140/528 [00:00<00:02, 186.01epoch/s, loss=0.328, count_observations=121, weights_mean=2.04, weights_std=2.36, weights_min=1]INFO:microcalibrate.reweight:Within 10% from targets: 66.67% \n",
      "\n",
      "INFO:microcalibrate.reweight:Epoch  150: Loss = 0.328252, Change = 0.000841 (improving)\n",
      "Reweighting progress:  30%|███       | 160/528 [00:01<00:01, 187.48epoch/s, loss=0.327, count_observations=121, weights_mean=2.27, weights_std=2.93, weights_min=1]INFO:microcalibrate.reweight:Within 10% from targets: 66.67% \n",
      "\n",
      "INFO:microcalibrate.reweight:Epoch  160: Loss = 0.327194, Change = 0.001058 (improving)\n",
      "Reweighting progress:  30%|███       | 160/528 [00:01<00:01, 187.48epoch/s, loss=0.326, count_observations=121, weights_mean=2.58, weights_std=3.65, weights_min=1]INFO:microcalibrate.reweight:Within 10% from targets: 66.67% \n",
      "\n",
      "INFO:microcalibrate.reweight:Epoch  170: Loss = 0.325855, Change = 0.001340 (improving)\n",
      "Reweighting progress:  30%|███       | 160/528 [00:01<00:01, 187.48epoch/s, loss=0.324, count_observations=121, weights_mean=2.96, weights_std=4.58, weights_min=1]INFO:microcalibrate.reweight:Within 10% from targets: 66.67% \n",
      "\n",
      "INFO:microcalibrate.reweight:Epoch  180: Loss = 0.324147, Change = 0.001707 (improving)\n",
      "Reweighting progress:  34%|███▍      | 181/528 [00:01<00:01, 191.38epoch/s, loss=0.322, count_observations=121, weights_mean=3.46, weights_std=5.77, weights_min=1]INFO:microcalibrate.reweight:Within 10% from targets: 66.67% \n",
      "\n",
      "INFO:microcalibrate.reweight:Epoch  190: Loss = 0.321958, Change = 0.002189 (improving)\n",
      "Reweighting progress:  34%|███▍      | 181/528 [00:01<00:01, 191.38epoch/s, loss=0.319, count_observations=121, weights_mean=4.1, weights_std=7.32, weights_min=1] INFO:microcalibrate.reweight:Within 10% from targets: 66.67% \n",
      "\n",
      "INFO:microcalibrate.reweight:Epoch  200: Loss = 0.319135, Change = 0.002823 (improving)\n",
      "Reweighting progress:  38%|███▊      | 202/528 [00:01<00:01, 195.71epoch/s, loss=0.315, count_observations=121, weights_mean=4.94, weights_std=9.33, weights_min=1]INFO:microcalibrate.reweight:Within 10% from targets: 66.67% \n",
      "\n",
      "INFO:microcalibrate.reweight:Epoch  210: Loss = 0.315475, Change = 0.003660 (improving)\n",
      "Reweighting progress:  38%|███▊      | 202/528 [00:01<00:01, 195.71epoch/s, loss=0.311, count_observations=121, weights_mean=6.03, weights_std=12, weights_min=1]  INFO:microcalibrate.reweight:Within 10% from targets: 66.67% \n",
      "\n",
      "INFO:microcalibrate.reweight:Epoch  220: Loss = 0.310710, Change = 0.004765 (improving)\n",
      "Reweighting progress:  42%|████▏     | 222/528 [00:01<00:01, 188.15epoch/s, loss=0.304, count_observations=121, weights_mean=7.48, weights_std=15.4, weights_min=1]INFO:microcalibrate.reweight:Within 10% from targets: 66.67% \n",
      "\n",
      "INFO:microcalibrate.reweight:Epoch  230: Loss = 0.304484, Change = 0.006226 (improving)\n",
      "Reweighting progress:  42%|████▏     | 222/528 [00:01<00:01, 188.15epoch/s, loss=0.296, count_observations=121, weights_mean=9.4, weights_std=20, weights_min=1]   INFO:microcalibrate.reweight:Within 10% from targets: 66.67% \n",
      "\n",
      "INFO:microcalibrate.reweight:Epoch  240: Loss = 0.296330, Change = 0.008154 (improving)\n",
      "Reweighting progress:  46%|████▌     | 241/528 [00:01<00:01, 182.08epoch/s, loss=0.286, count_observations=121, weights_mean=11.9, weights_std=26.2, weights_min=1]INFO:microcalibrate.reweight:Within 10% from targets: 66.67% \n",
      "\n",
      "INFO:microcalibrate.reweight:Epoch  250: Loss = 0.285647, Change = 0.010683 (improving)\n",
      "Reweighting progress:  49%|████▉     | 260/528 [00:01<00:01, 175.02epoch/s, loss=0.272, count_observations=121, weights_mean=15.4, weights_std=34.4, weights_min=1]INFO:microcalibrate.reweight:Within 10% from targets: 66.67% \n",
      "\n",
      "INFO:microcalibrate.reweight:Epoch  260: Loss = 0.271677, Change = 0.013970 (improving)\n",
      "Reweighting progress:  49%|████▉     | 260/528 [00:01<00:01, 175.02epoch/s, loss=0.254, count_observations=121, weights_mean=19.9, weights_std=45.3, weights_min=1]INFO:microcalibrate.reweight:Within 10% from targets: 66.67% \n",
      "\n",
      "INFO:microcalibrate.reweight:Epoch  270: Loss = 0.253504, Change = 0.018173 (improving)\n",
      "Reweighting progress:  53%|█████▎    | 278/528 [00:01<00:01, 173.22epoch/s, loss=0.23, count_observations=121, weights_mean=26.1, weights_std=60.1, weights_min=1] INFO:microcalibrate.reweight:Within 10% from targets: 66.67% \n",
      "\n",
      "INFO:microcalibrate.reweight:Epoch  280: Loss = 0.230109, Change = 0.023396 (improving)\n",
      "Reweighting progress:  53%|█████▎    | 278/528 [00:01<00:01, 173.22epoch/s, loss=0.201, count_observations=121, weights_mean=34.3, weights_std=79.8, weights_min=1]INFO:microcalibrate.reweight:Within 10% from targets: 66.67% \n",
      "\n",
      "INFO:microcalibrate.reweight:Epoch  290: Loss = 0.200529, Change = 0.029580 (improving)\n",
      "Reweighting progress:  56%|█████▌    | 296/528 [00:01<00:01, 168.78epoch/s, loss=0.164, count_observations=121, weights_mean=45.2, weights_std=106, weights_min=1] INFO:microcalibrate.reweight:Within 10% from targets: 66.67% \n",
      "\n",
      "INFO:microcalibrate.reweight:Epoch  300: Loss = 0.164248, Change = 0.036282 (improving)\n",
      "Reweighting progress:  56%|█████▌    | 296/528 [00:01<00:01, 168.78epoch/s, loss=0.122, count_observations=121, weights_mean=59.7, weights_std=141, weights_min=1]INFO:microcalibrate.reweight:Within 10% from targets: 66.67% \n",
      "\n",
      "INFO:microcalibrate.reweight:Epoch  310: Loss = 0.121955, Change = 0.042293 (improving)\n",
      "Reweighting progress:  59%|█████▉    | 313/528 [00:02<00:01, 143.99epoch/s, loss=0.0768, count_observations=121, weights_mean=78.2, weights_std=185, weights_min=1]INFO:microcalibrate.reweight:Within 10% from targets: 66.67% \n",
      "\n",
      "INFO:microcalibrate.reweight:Epoch  320: Loss = 0.076805, Change = 0.045150 (improving)\n",
      "Reweighting progress:  62%|██████▏   | 328/528 [00:02<00:01, 122.26epoch/s, loss=0.0358, count_observations=121, weights_mean=101, weights_std=240, weights_min=1] INFO:microcalibrate.reweight:Within 10% from targets: 66.67% \n",
      "\n",
      "INFO:microcalibrate.reweight:Epoch  330: Loss = 0.035754, Change = 0.041051 (improving)\n",
      "Reweighting progress:  62%|██████▏   | 328/528 [00:02<00:01, 122.26epoch/s, loss=0.00865, count_observations=121, weights_mean=126, weights_std=299, weights_min=1]INFO:microcalibrate.reweight:Within 10% from targets: 66.67% \n",
      "\n",
      "INFO:microcalibrate.reweight:Epoch  340: Loss = 0.008646, Change = 0.027108 (improving)\n",
      "Reweighting progress:  65%|██████▍   | 342/528 [00:02<00:01, 119.67epoch/s, loss=0.000138, count_observations=121, weights_mean=147, weights_std=350, weights_min=1]INFO:microcalibrate.reweight:Within 10% from targets: 100.00% \n",
      "\n",
      "INFO:microcalibrate.reweight:Epoch  350: Loss = 0.000138, Change = 0.008509 (improving)\n",
      "Reweighting progress:  65%|██████▍   | 342/528 [00:02<00:01, 119.67epoch/s, loss=0.000688, count_observations=121, weights_mean=156, weights_std=373, weights_min=1]INFO:microcalibrate.reweight:Within 10% from targets: 100.00% \n",
      "\n",
      "INFO:microcalibrate.reweight:Epoch  360: Loss = 0.000688, Change = -0.000550 (worsening)\n",
      "Reweighting progress:  68%|██████▊   | 361/528 [00:02<00:01, 133.95epoch/s, loss=0.000522, count_observations=121, weights_mean=156, weights_std=371, weights_min=1]INFO:microcalibrate.reweight:Within 10% from targets: 100.00% \n",
      "\n",
      "INFO:microcalibrate.reweight:Epoch  370: Loss = 0.000522, Change = 0.000166 (improving)\n",
      "Reweighting progress:  71%|███████   | 376/528 [00:02<00:01, 130.11epoch/s, loss=4.69e-5, count_observations=121, weights_mean=151, weights_std=361, weights_min=1] INFO:microcalibrate.reweight:Within 10% from targets: 100.00% \n",
      "\n",
      "INFO:microcalibrate.reweight:Epoch  380: Loss = 0.000047, Change = 0.000475 (improving)\n",
      "Reweighting progress:  74%|███████▍  | 390/528 [00:02<00:01, 111.96epoch/s, loss=9.17e-6, count_observations=121, weights_mean=149, weights_std=355, weights_min=1]INFO:microcalibrate.reweight:Within 10% from targets: 100.00% \n",
      "\n",
      "INFO:microcalibrate.reweight:Epoch  390: Loss = 0.000009, Change = 0.000038 (improving)\n",
      "Reweighting progress:  74%|███████▍  | 390/528 [00:02<00:01, 111.96epoch/s, loss=2.12e-5, count_observations=121, weights_mean=148, weights_std=354, weights_min=1]INFO:microcalibrate.reweight:Within 10% from targets: 100.00% \n",
      "\n",
      "INFO:microcalibrate.reweight:Epoch  400: Loss = 0.000021, Change = -0.000012 (worsening)\n",
      "Reweighting progress:  76%|███████▌  | 402/528 [00:02<00:01, 109.75epoch/s, loss=5.08e-6, count_observations=121, weights_mean=149, weights_std=356, weights_min=1]INFO:microcalibrate.reweight:Within 10% from targets: 100.00% \n",
      "\n",
      "INFO:microcalibrate.reweight:Epoch  410: Loss = 0.000005, Change = 0.000016 (improving)\n",
      "Reweighting progress:  79%|███████▉  | 416/528 [00:02<00:00, 115.57epoch/s, loss=7.85e-10, count_observations=121, weights_mean=150, weights_std=357, weights_min=1]INFO:microcalibrate.reweight:Within 10% from targets: 100.00% \n",
      "\n",
      "INFO:microcalibrate.reweight:Epoch  420: Loss = 0.000000, Change = 0.000005 (improving)\n",
      "Reweighting progress:  79%|███████▉  | 416/528 [00:02<00:00, 115.57epoch/s, loss=6.67e-7, count_observations=121, weights_mean=150, weights_std=357, weights_min=1] INFO:microcalibrate.reweight:Within 10% from targets: 100.00% \n",
      "\n",
      "INFO:microcalibrate.reweight:Epoch  430: Loss = 0.000001, Change = -0.000001 (worsening)\n",
      "Reweighting progress:  82%|████████▏ | 431/528 [00:03<00:00, 123.10epoch/s, loss=3.03e-7, count_observations=121, weights_mean=150, weights_std=357, weights_min=1]INFO:microcalibrate.reweight:Within 10% from targets: 100.00% \n",
      "\n",
      "INFO:microcalibrate.reweight:Epoch  440: Loss = 0.000000, Change = 0.000000 (improving)\n",
      "Reweighting progress:  84%|████████▍ | 444/528 [00:03<00:00, 123.57epoch/s, loss=7.41e-9, count_observations=121, weights_mean=150, weights_std=357, weights_min=1]INFO:microcalibrate.reweight:Within 10% from targets: 100.00% \n",
      "\n",
      "INFO:microcalibrate.reweight:Epoch  450: Loss = 0.000000, Change = 0.000000 (improving)\n",
      "Reweighting progress:  84%|████████▍ | 444/528 [00:03<00:00, 123.57epoch/s, loss=1.86e-8, count_observations=121, weights_mean=150, weights_std=357, weights_min=1]INFO:microcalibrate.reweight:Within 10% from targets: 100.00% \n",
      "\n",
      "INFO:microcalibrate.reweight:Epoch  460: Loss = 0.000000, Change = -0.000000 (worsening)\n",
      "Reweighting progress:  88%|████████▊ | 462/528 [00:03<00:00, 134.20epoch/s, loss=1.45e-8, count_observations=121, weights_mean=150, weights_std=357, weights_min=1]INFO:microcalibrate.reweight:Within 10% from targets: 100.00% \n",
      "\n",
      "INFO:microcalibrate.reweight:Epoch  470: Loss = 0.000000, Change = 0.000000 (improving)\n",
      "Reweighting progress:  90%|█████████ | 476/528 [00:03<00:00, 135.74epoch/s, loss=9.57e-10, count_observations=121, weights_mean=150, weights_std=357, weights_min=1]INFO:microcalibrate.reweight:Within 10% from targets: 100.00% \n",
      "\n",
      "INFO:microcalibrate.reweight:Epoch  480: Loss = 0.000000, Change = 0.000000 (improving)\n",
      "Reweighting progress:  90%|█████████ | 476/528 [00:03<00:00, 135.74epoch/s, loss=5.18e-10, count_observations=121, weights_mean=150, weights_std=357, weights_min=1]INFO:microcalibrate.reweight:Within 10% from targets: 100.00% \n",
      "\n",
      "INFO:microcalibrate.reweight:Epoch  490: Loss = 0.000000, Change = 0.000000 (improving)\n",
      "Reweighting progress:  93%|█████████▎| 492/528 [00:03<00:00, 142.08epoch/s, loss=6.36e-10, count_observations=121, weights_mean=150, weights_std=357, weights_min=1]INFO:microcalibrate.reweight:Within 10% from targets: 100.00% \n",
      "\n",
      "INFO:microcalibrate.reweight:Epoch  500: Loss = 0.000000, Change = -0.000000 (worsening)\n",
      "Reweighting progress:  93%|█████████▎| 492/528 [00:03<00:00, 142.08epoch/s, loss=5.81e-11, count_observations=121, weights_mean=150, weights_std=357, weights_min=1]INFO:microcalibrate.reweight:Within 10% from targets: 100.00% \n",
      "\n",
      "INFO:microcalibrate.reweight:Epoch  510: Loss = 0.000000, Change = 0.000000 (improving)\n",
      "Reweighting progress:  97%|█████████▋| 511/528 [00:03<00:00, 152.73epoch/s, loss=1.77e-11, count_observations=121, weights_mean=150, weights_std=357, weights_min=1]INFO:microcalibrate.reweight:Within 10% from targets: 100.00% \n",
      "\n",
      "INFO:microcalibrate.reweight:Epoch  520: Loss = 0.000000, Change = 0.000000 (improving)\n",
      "Reweighting progress: 100%|██████████| 528/528 [00:03<00:00, 145.41epoch/s, loss=1.77e-11, count_observations=121, weights_mean=150, weights_std=357, weights_min=1]\n",
      "INFO:microcalibrate.reweight:Reweighting completed. Final sample size: 121\n"
     ]
    },
    {
     "name": "stdout",
     "output_type": "stream",
     "text": [
      "Original dataset size: 121\n",
      "Calibrated dataset size: 121\n",
      "Number of calibrated weights: 121\n"
     ]
    }
   ],
   "source": [
    "# Initialize the Calibration object\n",
    "calibrator = Calibration(\n",
    "    loss_matrix=targets_matrix,\n",
    "    weights=weights, \n",
    "    targets=targets,\n",
    "    noise_level=0.05,\n",
    "    epochs=528,\n",
    "    learning_rate=0.01,\n",
    "    dropout_rate=0,\n",
    "    subsample_every=0,\n",
    ")\n",
    "\n",
    "# Perform the calibration\n",
    "performance_df = calibrator.calibrate()\n",
    "\n",
    "print(f\"Original dataset size: {len(targets_matrix)}\")\n",
    "print(f\"Calibrated dataset size: {len(calibrator.loss_matrix)}\")\n",
    "print(f\"Number of calibrated weights: {len(calibrator.weights)}\")"
   ]
  },
  {
   "cell_type": "code",
   "execution_count": 3,
   "id": "9djvjpfrhxb",
   "metadata": {},
   "outputs": [
    {
     "name": "stdout",
     "output_type": "stream",
     "text": [
      "Target totals: [7.37032429e+08 9.76779350e+05 4.36479914e+04]\n",
      "Final calibrated totals: [7.37025313e+08 9.76778391e+05 4.36469951e+04]\n",
      "Difference: [-7.11604500e+03 -9.58959736e-01 -9.96308503e-01]\n",
      "Relative error: [-9.65499580e-04 -9.81756767e-05 -2.28259874e-03]\n"
     ]
    }
   ],
   "source": [
    "# Calculate final weighted totals\n",
    "final_totals = targets_matrix.mul(calibrator.weights, axis=0).sum().values\n",
    "\n",
    "print(f\"Target totals: {targets}\")\n",
    "print(f\"Final calibrated totals: {final_totals}\")\n",
    "print(f\"Difference: {final_totals - targets}\")\n",
    "print(f\"Relative error: {(final_totals - targets) / targets * 100}\")"
   ]
  },
  {
   "cell_type": "code",
   "execution_count": 4,
   "id": "96cc818b",
   "metadata": {},
   "outputs": [],
   "source": [
    "np.testing.assert_allclose(\n",
    "        final_totals,\n",
    "        targets,\n",
    "        rtol=0.01,  # relative tolerance\n",
    "        err_msg=\"Calibrated totals do not match target values\",\n",
    "    )"
   ]
  },
  {
   "cell_type": "code",
   "execution_count": 5,
   "id": "923d79dd",
   "metadata": {},
   "outputs": [
    {
     "data": {
      "text/html": [
       "<div>\n",
       "<style scoped>\n",
       "    .dataframe tbody tr th:only-of-type {\n",
       "        vertical-align: middle;\n",
       "    }\n",
       "\n",
       "    .dataframe tbody tr th {\n",
       "        vertical-align: top;\n",
       "    }\n",
       "\n",
       "    .dataframe thead th {\n",
       "        text-align: right;\n",
       "    }\n",
       "</style>\n",
       "<table border=\"1\" class=\"dataframe\">\n",
       "  <thead>\n",
       "    <tr style=\"text-align: right;\">\n",
       "      <th></th>\n",
       "      <th>epoch</th>\n",
       "      <th>loss</th>\n",
       "      <th>target_name</th>\n",
       "      <th>target</th>\n",
       "      <th>estimate</th>\n",
       "      <th>error</th>\n",
       "      <th>abs_error</th>\n",
       "      <th>rel_abs_error</th>\n",
       "    </tr>\n",
       "  </thead>\n",
       "  <tbody>\n",
       "    <tr>\n",
       "      <th>0</th>\n",
       "      <td>0</td>\n",
       "      <td>0.341399</td>\n",
       "      <td>income_aged_20_30</td>\n",
       "      <td>7.370324e+08</td>\n",
       "      <td>753991.250000</td>\n",
       "      <td>-7.362785e+08</td>\n",
       "      <td>7.362785e+08</td>\n",
       "      <td>0.998977</td>\n",
       "    </tr>\n",
       "    <tr>\n",
       "      <th>1</th>\n",
       "      <td>0</td>\n",
       "      <td>0.341399</td>\n",
       "      <td>income_aged_40_50</td>\n",
       "      <td>9.767794e+05</td>\n",
       "      <td>869286.125000</td>\n",
       "      <td>-1.074932e+05</td>\n",
       "      <td>1.074932e+05</td>\n",
       "      <td>0.110049</td>\n",
       "    </tr>\n",
       "    <tr>\n",
       "      <th>2</th>\n",
       "      <td>0</td>\n",
       "      <td>0.341399</td>\n",
       "      <td>income_aged_71</td>\n",
       "      <td>4.364799e+04</td>\n",
       "      <td>38458.140625</td>\n",
       "      <td>-5.189852e+03</td>\n",
       "      <td>5.189852e+03</td>\n",
       "      <td>0.118902</td>\n",
       "    </tr>\n",
       "    <tr>\n",
       "      <th>3</th>\n",
       "      <td>10</td>\n",
       "      <td>0.333039</td>\n",
       "      <td>income_aged_20_30</td>\n",
       "      <td>7.370324e+08</td>\n",
       "      <td>833523.250000</td>\n",
       "      <td>-7.361989e+08</td>\n",
       "      <td>7.361989e+08</td>\n",
       "      <td>0.998869</td>\n",
       "    </tr>\n",
       "    <tr>\n",
       "      <th>4</th>\n",
       "      <td>10</td>\n",
       "      <td>0.333039</td>\n",
       "      <td>income_aged_40_50</td>\n",
       "      <td>9.767794e+05</td>\n",
       "      <td>955902.250000</td>\n",
       "      <td>-2.087712e+04</td>\n",
       "      <td>2.087712e+04</td>\n",
       "      <td>0.021373</td>\n",
       "    </tr>\n",
       "  </tbody>\n",
       "</table>\n",
       "</div>"
      ],
      "text/plain": [
       "   epoch      loss        target_name        target       estimate  \\\n",
       "0      0  0.341399  income_aged_20_30  7.370324e+08  753991.250000   \n",
       "1      0  0.341399  income_aged_40_50  9.767794e+05  869286.125000   \n",
       "2      0  0.341399     income_aged_71  4.364799e+04   38458.140625   \n",
       "3     10  0.333039  income_aged_20_30  7.370324e+08  833523.250000   \n",
       "4     10  0.333039  income_aged_40_50  9.767794e+05  955902.250000   \n",
       "\n",
       "          error     abs_error  rel_abs_error  \n",
       "0 -7.362785e+08  7.362785e+08       0.998977  \n",
       "1 -1.074932e+05  1.074932e+05       0.110049  \n",
       "2 -5.189852e+03  5.189852e+03       0.118902  \n",
       "3 -7.361989e+08  7.361989e+08       0.998869  \n",
       "4 -2.087712e+04  2.087712e+04       0.021373  "
      ]
     },
     "execution_count": 5,
     "metadata": {},
     "output_type": "execute_result"
    }
   ],
   "source": [
    "performance_df.head()"
   ]
  },
  {
   "cell_type": "code",
   "execution_count": 6,
   "id": "da828d30",
   "metadata": {},
   "outputs": [
    {
     "data": {
      "application/vnd.plotly.v1+json": {
       "config": {
        "plotlyServerURL": "https://plot.ly"
       },
       "data": [
        {
         "line": {
          "color": "red",
          "dash": "dot"
         },
         "mode": "lines",
         "name": "Target 20-30",
         "type": "scatter",
         "x": [
          0,
          10,
          20,
          30,
          40,
          50,
          60,
          70,
          80,
          90,
          100,
          110,
          120,
          130,
          140,
          150,
          160,
          170,
          180,
          190,
          200,
          210,
          220,
          230,
          240,
          250,
          260,
          270,
          280,
          290,
          300,
          310,
          320,
          330,
          340,
          350,
          360,
          370,
          380,
          390,
          400,
          410,
          420,
          430,
          440,
          450,
          460,
          470,
          480,
          490,
          500,
          510,
          520
         ],
         "xaxis": "x",
         "y": [
          737032448,
          737032448,
          737032448,
          737032448,
          737032448,
          737032448,
          737032448,
          737032448,
          737032448,
          737032448,
          737032448,
          737032448,
          737032448,
          737032448,
          737032448,
          737032448,
          737032448,
          737032448,
          737032448,
          737032448,
          737032448,
          737032448,
          737032448,
          737032448,
          737032448,
          737032448,
          737032448,
          737032448,
          737032448,
          737032448,
          737032448,
          737032448,
          737032448,
          737032448,
          737032448,
          737032448,
          737032448,
          737032448,
          737032448,
          737032448,
          737032448,
          737032448,
          737032448,
          737032448,
          737032448,
          737032448,
          737032448,
          737032448,
          737032448,
          737032448,
          737032448,
          737032448,
          737032448
         ],
         "yaxis": "y"
        },
        {
         "line": {
          "color": "blue"
         },
         "mode": "lines",
         "name": "Estimate 20-30",
         "type": "scatter",
         "x": [
          0,
          10,
          20,
          30,
          40,
          50,
          60,
          70,
          80,
          90,
          100,
          110,
          120,
          130,
          140,
          150,
          160,
          170,
          180,
          190,
          200,
          210,
          220,
          230,
          240,
          250,
          260,
          270,
          280,
          290,
          300,
          310,
          320,
          330,
          340,
          350,
          360,
          370,
          380,
          390,
          400,
          410,
          420,
          430,
          440,
          450,
          460,
          470,
          480,
          490,
          500,
          510,
          520
         ],
         "xaxis": "x",
         "y": [
          753991.25,
          833523.25,
          922971.875,
          1025069.125,
          1142984.625,
          1280429.5,
          1441869.75,
          1632813.625,
          1860171.75,
          2132710.75,
          2461642.5,
          2861398.5,
          3350668.5,
          3953788,
          4702618.5,
          5639086.5,
          6818642,
          8314968.5,
          10226418,
          12684842,
          15867692,
          20014662,
          25450502,
          32616260,
          42111776,
          54752792,
          71646240,
          94285520,
          124662400,
          165374976,
          219667872,
          291225216,
          383245696,
          495647744,
          618328576,
          722044224,
          770506048,
          766192000,
          745778432,
          733167360,
          731158528,
          734155648,
          737068224,
          738074752,
          737735552,
          737142336,
          736858368,
          736878464,
          736992960,
          737061504,
          737064640,
          737042176,
          737027072
         ],
         "yaxis": "y"
        },
        {
         "line": {
          "color": "red",
          "dash": "dot"
         },
         "mode": "lines",
         "name": "Target 40-50",
         "type": "scatter",
         "x": [
          0,
          10,
          20,
          30,
          40,
          50,
          60,
          70,
          80,
          90,
          100,
          110,
          120,
          130,
          140,
          150,
          160,
          170,
          180,
          190,
          200,
          210,
          220,
          230,
          240,
          250,
          260,
          270,
          280,
          290,
          300,
          310,
          320,
          330,
          340,
          350,
          360,
          370,
          380,
          390,
          400,
          410,
          420,
          430,
          440,
          450,
          460,
          470,
          480,
          490,
          500,
          510,
          520
         ],
         "xaxis": "x2",
         "y": [
          976779.375,
          976779.375,
          976779.375,
          976779.375,
          976779.375,
          976779.375,
          976779.375,
          976779.375,
          976779.375,
          976779.375,
          976779.375,
          976779.375,
          976779.375,
          976779.375,
          976779.375,
          976779.375,
          976779.375,
          976779.375,
          976779.375,
          976779.375,
          976779.375,
          976779.375,
          976779.375,
          976779.375,
          976779.375,
          976779.375,
          976779.375,
          976779.375,
          976779.375,
          976779.375,
          976779.375,
          976779.375,
          976779.375,
          976779.375,
          976779.375,
          976779.375,
          976779.375,
          976779.375,
          976779.375,
          976779.375,
          976779.375,
          976779.375,
          976779.375,
          976779.375,
          976779.375,
          976779.375,
          976779.375,
          976779.375,
          976779.375,
          976779.375,
          976779.375,
          976779.375,
          976779.375
         ],
         "yaxis": "y2"
        },
        {
         "line": {
          "color": "green"
         },
         "mode": "lines",
         "name": "Estimate 40-50",
         "type": "scatter",
         "x": [
          0,
          10,
          20,
          30,
          40,
          50,
          60,
          70,
          80,
          90,
          100,
          110,
          120,
          130,
          140,
          150,
          160,
          170,
          180,
          190,
          200,
          210,
          220,
          230,
          240,
          250,
          260,
          270,
          280,
          290,
          300,
          310,
          320,
          330,
          340,
          350,
          360,
          370,
          380,
          390,
          400,
          410,
          420,
          430,
          440,
          450,
          460,
          470,
          480,
          490,
          500,
          510,
          520
         ],
         "xaxis": "x2",
         "y": [
          869286.125,
          955902.25,
          1003764.8125,
          986138.75,
          966988.875,
          974060.5625,
          980789.3125,
          976586.375,
          975432,
          977442.375,
          976905.875,
          976475,
          976924.9375,
          976783.25,
          976724.75,
          976817.75,
          976765.0625,
          976776.125,
          976784.8125,
          976773.375,
          976780.8125,
          976777.75,
          976778.1875,
          976778.75,
          976778,
          976778.5625,
          976778.25,
          976778.4375,
          976778.375,
          976778.375,
          976778.375,
          976778.375,
          976778.375,
          976778.375,
          976778.375,
          976778.375,
          976778.375,
          976778.375,
          976778.375,
          976778.375,
          976778.375,
          976778.375,
          976778.375,
          976778.375,
          976778.375,
          976778.375,
          976778.375,
          976778.375,
          976778.375,
          976778.375,
          976778.375,
          976778.375,
          976778.375
         ],
         "yaxis": "y2"
        },
        {
         "line": {
          "color": "blue"
         },
         "mode": "lines",
         "showlegend": false,
         "type": "scatter",
         "x": [
          0,
          10,
          20,
          30,
          40,
          50,
          60,
          70,
          80,
          90,
          100,
          110,
          120,
          130,
          140,
          150,
          160,
          170,
          180,
          190,
          200,
          210,
          220,
          230,
          240,
          250,
          260,
          270,
          280,
          290,
          300,
          310,
          320,
          330,
          340,
          350,
          360,
          370,
          380,
          390,
          400,
          410,
          420,
          430,
          440,
          450,
          460,
          470,
          480,
          490,
          500,
          510,
          520
         ],
         "xaxis": "x3",
         "y": [
          0.9989769904268855,
          0.9988690820163185,
          0.9987477188046407,
          0.9986091940351044,
          0.9984492071847019,
          0.9982627230273585,
          0.9980436821283614,
          0.9977846109361524,
          0.9974761331674776,
          0.9971063543324487,
          0.9966600622446409,
          0.9961176763550036,
          0.9954538385533875,
          0.994635530619135,
          0.9936195231122308,
          0.9923489304774815,
          0.9907485185781129,
          0.9887183142037187,
          0.986124874111377,
          0.9827893031922524,
          0.9784708366055547,
          0.9728442593615634,
          0.9654689531389532,
          0.9557465073776508,
          0.9428630637439723,
          0.9257118297185201,
          0.9027909284124218,
          0.8720741261041468,
          0.8308590071735892,
          0.7756204947980798,
          0.7019563078992148,
          0.6048678497259323,
          0.4800151648140191,
          0.3275089240033025,
          0.1610565075148496,
          0.020335907924639976,
          0.0454167249906479,
          0.03956345759148992,
          0.011866484336928405,
          0.005244121897873349,
          0.007969689822937076,
          0.0039032202826435125,
          0.00004854060373743545,
          0.0014141901117493269,
          0.000953966140714608,
          0.00014909519967294573,
          0.0002361904153234784,
          0.00020892431590745922,
          0.000053577017005362564,
          0.00003942295902825706,
          0.000043677859892540306,
          0.000013198876150429676,
          0.000007294115767342716
         ],
         "yaxis": "y3"
        },
        {
         "line": {
          "color": "green"
         },
         "mode": "lines",
         "showlegend": false,
         "type": "scatter",
         "x": [
          0,
          10,
          20,
          30,
          40,
          50,
          60,
          70,
          80,
          90,
          100,
          110,
          120,
          130,
          140,
          150,
          160,
          170,
          180,
          190,
          200,
          210,
          220,
          230,
          240,
          250,
          260,
          270,
          280,
          290,
          300,
          310,
          320,
          330,
          340,
          350,
          360,
          370,
          380,
          390,
          400,
          410,
          420,
          430,
          440,
          450,
          460,
          470,
          480,
          490,
          500,
          510,
          520
         ],
         "xaxis": "x4",
         "y": [
          0.11004864839616418,
          0.021373429388801334,
          0.02762695260636518,
          0.009581872057853392,
          0.010023246037519988,
          0.002783445852345111,
          0.004105264302903611,
          0.00019758811963039249,
          0.001379405661590674,
          0.0006787612606992239,
          0.00012950723903235568,
          0.00031161079747409694,
          0.0001490229049932591,
          0.00000396711898221643,
          0.0000559235804912445,
          0.0000392872750819498,
          0.000014652745918186489,
          0.0000033272610818589406,
          0.000005566763733110151,
          0.000006142635843431891,
          0.0000014716731708222239,
          0.0000016636305409294703,
          0.0000012157300106792284,
          6.398579003574886e-7,
          0.000001407687380786475,
          8.318152704647351e-7,
          0.0000011517442206434795,
          9.59786850536233e-7,
          0.0000010237726405719818,
          0.0000010237726405719818,
          0.0000010237726405719818,
          0.0000010237726405719818,
          0.0000010237726405719818,
          0.0000010237726405719818,
          0.0000010237726405719818,
          0.0000010237726405719818,
          0.0000010237726405719818,
          0.0000010237726405719818,
          0.0000010237726405719818,
          0.0000010237726405719818,
          0.0000010237726405719818,
          0.0000010237726405719818,
          0.0000010237726405719818,
          0.0000010237726405719818,
          0.0000010237726405719818,
          0.0000010237726405719818,
          0.0000010237726405719818,
          0.0000010237726405719818,
          0.0000010237726405719818,
          0.0000010237726405719818,
          0.0000010237726405719818,
          0.0000010237726405719818,
          0.0000010237726405719818
         ],
         "yaxis": "y4"
        }
       ],
       "layout": {
        "annotations": [
         {
          "font": {
           "size": 16
          },
          "showarrow": false,
          "text": "Estimate vs target: income_aged_20_30",
          "x": 0.225,
          "xanchor": "center",
          "xref": "paper",
          "y": 1,
          "yanchor": "bottom",
          "yref": "paper"
         },
         {
          "font": {
           "size": 16
          },
          "showarrow": false,
          "text": "Estimate vs target: income_aged_40_50",
          "x": 0.775,
          "xanchor": "center",
          "xref": "paper",
          "y": 1,
          "yanchor": "bottom",
          "yref": "paper"
         },
         {
          "font": {
           "size": 16
          },
          "showarrow": false,
          "text": "Relative absolute error: income_aged_20_30",
          "x": 0.225,
          "xanchor": "center",
          "xref": "paper",
          "y": 0.44,
          "yanchor": "bottom",
          "yref": "paper"
         },
         {
          "font": {
           "size": 16
          },
          "showarrow": false,
          "text": "Relative absolute error: income_aged_40_50",
          "x": 0.775,
          "xanchor": "center",
          "xref": "paper",
          "y": 0.44,
          "yanchor": "bottom",
          "yref": "paper"
         }
        ],
        "height": 800,
        "legend": {
         "x": 1.05,
         "xanchor": "left",
         "y": 1,
         "yanchor": "top"
        },
        "margin": {
         "r": 200
        },
        "template": {
         "data": {
          "bar": [
           {
            "error_x": {
             "color": "#2a3f5f"
            },
            "error_y": {
             "color": "#2a3f5f"
            },
            "marker": {
             "line": {
              "color": "#E5ECF6",
              "width": 0.5
             },
             "pattern": {
              "fillmode": "overlay",
              "size": 10,
              "solidity": 0.2
             }
            },
            "type": "bar"
           }
          ],
          "barpolar": [
           {
            "marker": {
             "line": {
              "color": "#E5ECF6",
              "width": 0.5
             },
             "pattern": {
              "fillmode": "overlay",
              "size": 10,
              "solidity": 0.2
             }
            },
            "type": "barpolar"
           }
          ],
          "carpet": [
           {
            "aaxis": {
             "endlinecolor": "#2a3f5f",
             "gridcolor": "white",
             "linecolor": "white",
             "minorgridcolor": "white",
             "startlinecolor": "#2a3f5f"
            },
            "baxis": {
             "endlinecolor": "#2a3f5f",
             "gridcolor": "white",
             "linecolor": "white",
             "minorgridcolor": "white",
             "startlinecolor": "#2a3f5f"
            },
            "type": "carpet"
           }
          ],
          "choropleth": [
           {
            "colorbar": {
             "outlinewidth": 0,
             "ticks": ""
            },
            "type": "choropleth"
           }
          ],
          "contour": [
           {
            "colorbar": {
             "outlinewidth": 0,
             "ticks": ""
            },
            "colorscale": [
             [
              0,
              "#0d0887"
             ],
             [
              0.1111111111111111,
              "#46039f"
             ],
             [
              0.2222222222222222,
              "#7201a8"
             ],
             [
              0.3333333333333333,
              "#9c179e"
             ],
             [
              0.4444444444444444,
              "#bd3786"
             ],
             [
              0.5555555555555556,
              "#d8576b"
             ],
             [
              0.6666666666666666,
              "#ed7953"
             ],
             [
              0.7777777777777778,
              "#fb9f3a"
             ],
             [
              0.8888888888888888,
              "#fdca26"
             ],
             [
              1,
              "#f0f921"
             ]
            ],
            "type": "contour"
           }
          ],
          "contourcarpet": [
           {
            "colorbar": {
             "outlinewidth": 0,
             "ticks": ""
            },
            "type": "contourcarpet"
           }
          ],
          "heatmap": [
           {
            "colorbar": {
             "outlinewidth": 0,
             "ticks": ""
            },
            "colorscale": [
             [
              0,
              "#0d0887"
             ],
             [
              0.1111111111111111,
              "#46039f"
             ],
             [
              0.2222222222222222,
              "#7201a8"
             ],
             [
              0.3333333333333333,
              "#9c179e"
             ],
             [
              0.4444444444444444,
              "#bd3786"
             ],
             [
              0.5555555555555556,
              "#d8576b"
             ],
             [
              0.6666666666666666,
              "#ed7953"
             ],
             [
              0.7777777777777778,
              "#fb9f3a"
             ],
             [
              0.8888888888888888,
              "#fdca26"
             ],
             [
              1,
              "#f0f921"
             ]
            ],
            "type": "heatmap"
           }
          ],
          "heatmapgl": [
           {
            "colorbar": {
             "outlinewidth": 0,
             "ticks": ""
            },
            "colorscale": [
             [
              0,
              "#0d0887"
             ],
             [
              0.1111111111111111,
              "#46039f"
             ],
             [
              0.2222222222222222,
              "#7201a8"
             ],
             [
              0.3333333333333333,
              "#9c179e"
             ],
             [
              0.4444444444444444,
              "#bd3786"
             ],
             [
              0.5555555555555556,
              "#d8576b"
             ],
             [
              0.6666666666666666,
              "#ed7953"
             ],
             [
              0.7777777777777778,
              "#fb9f3a"
             ],
             [
              0.8888888888888888,
              "#fdca26"
             ],
             [
              1,
              "#f0f921"
             ]
            ],
            "type": "heatmapgl"
           }
          ],
          "histogram": [
           {
            "marker": {
             "pattern": {
              "fillmode": "overlay",
              "size": 10,
              "solidity": 0.2
             }
            },
            "type": "histogram"
           }
          ],
          "histogram2d": [
           {
            "colorbar": {
             "outlinewidth": 0,
             "ticks": ""
            },
            "colorscale": [
             [
              0,
              "#0d0887"
             ],
             [
              0.1111111111111111,
              "#46039f"
             ],
             [
              0.2222222222222222,
              "#7201a8"
             ],
             [
              0.3333333333333333,
              "#9c179e"
             ],
             [
              0.4444444444444444,
              "#bd3786"
             ],
             [
              0.5555555555555556,
              "#d8576b"
             ],
             [
              0.6666666666666666,
              "#ed7953"
             ],
             [
              0.7777777777777778,
              "#fb9f3a"
             ],
             [
              0.8888888888888888,
              "#fdca26"
             ],
             [
              1,
              "#f0f921"
             ]
            ],
            "type": "histogram2d"
           }
          ],
          "histogram2dcontour": [
           {
            "colorbar": {
             "outlinewidth": 0,
             "ticks": ""
            },
            "colorscale": [
             [
              0,
              "#0d0887"
             ],
             [
              0.1111111111111111,
              "#46039f"
             ],
             [
              0.2222222222222222,
              "#7201a8"
             ],
             [
              0.3333333333333333,
              "#9c179e"
             ],
             [
              0.4444444444444444,
              "#bd3786"
             ],
             [
              0.5555555555555556,
              "#d8576b"
             ],
             [
              0.6666666666666666,
              "#ed7953"
             ],
             [
              0.7777777777777778,
              "#fb9f3a"
             ],
             [
              0.8888888888888888,
              "#fdca26"
             ],
             [
              1,
              "#f0f921"
             ]
            ],
            "type": "histogram2dcontour"
           }
          ],
          "mesh3d": [
           {
            "colorbar": {
             "outlinewidth": 0,
             "ticks": ""
            },
            "type": "mesh3d"
           }
          ],
          "parcoords": [
           {
            "line": {
             "colorbar": {
              "outlinewidth": 0,
              "ticks": ""
             }
            },
            "type": "parcoords"
           }
          ],
          "pie": [
           {
            "automargin": true,
            "type": "pie"
           }
          ],
          "scatter": [
           {
            "fillpattern": {
             "fillmode": "overlay",
             "size": 10,
             "solidity": 0.2
            },
            "type": "scatter"
           }
          ],
          "scatter3d": [
           {
            "line": {
             "colorbar": {
              "outlinewidth": 0,
              "ticks": ""
             }
            },
            "marker": {
             "colorbar": {
              "outlinewidth": 0,
              "ticks": ""
             }
            },
            "type": "scatter3d"
           }
          ],
          "scattercarpet": [
           {
            "marker": {
             "colorbar": {
              "outlinewidth": 0,
              "ticks": ""
             }
            },
            "type": "scattercarpet"
           }
          ],
          "scattergeo": [
           {
            "marker": {
             "colorbar": {
              "outlinewidth": 0,
              "ticks": ""
             }
            },
            "type": "scattergeo"
           }
          ],
          "scattergl": [
           {
            "marker": {
             "colorbar": {
              "outlinewidth": 0,
              "ticks": ""
             }
            },
            "type": "scattergl"
           }
          ],
          "scattermapbox": [
           {
            "marker": {
             "colorbar": {
              "outlinewidth": 0,
              "ticks": ""
             }
            },
            "type": "scattermapbox"
           }
          ],
          "scatterpolar": [
           {
            "marker": {
             "colorbar": {
              "outlinewidth": 0,
              "ticks": ""
             }
            },
            "type": "scatterpolar"
           }
          ],
          "scatterpolargl": [
           {
            "marker": {
             "colorbar": {
              "outlinewidth": 0,
              "ticks": ""
             }
            },
            "type": "scatterpolargl"
           }
          ],
          "scatterternary": [
           {
            "marker": {
             "colorbar": {
              "outlinewidth": 0,
              "ticks": ""
             }
            },
            "type": "scatterternary"
           }
          ],
          "surface": [
           {
            "colorbar": {
             "outlinewidth": 0,
             "ticks": ""
            },
            "colorscale": [
             [
              0,
              "#0d0887"
             ],
             [
              0.1111111111111111,
              "#46039f"
             ],
             [
              0.2222222222222222,
              "#7201a8"
             ],
             [
              0.3333333333333333,
              "#9c179e"
             ],
             [
              0.4444444444444444,
              "#bd3786"
             ],
             [
              0.5555555555555556,
              "#d8576b"
             ],
             [
              0.6666666666666666,
              "#ed7953"
             ],
             [
              0.7777777777777778,
              "#fb9f3a"
             ],
             [
              0.8888888888888888,
              "#fdca26"
             ],
             [
              1,
              "#f0f921"
             ]
            ],
            "type": "surface"
           }
          ],
          "table": [
           {
            "cells": {
             "fill": {
              "color": "#EBF0F8"
             },
             "line": {
              "color": "white"
             }
            },
            "header": {
             "fill": {
              "color": "#C8D4E3"
             },
             "line": {
              "color": "white"
             }
            },
            "type": "table"
           }
          ]
         },
         "layout": {
          "annotationdefaults": {
           "arrowcolor": "#2a3f5f",
           "arrowhead": 0,
           "arrowwidth": 1
          },
          "autotypenumbers": "strict",
          "coloraxis": {
           "colorbar": {
            "outlinewidth": 0,
            "ticks": ""
           }
          },
          "colorscale": {
           "diverging": [
            [
             0,
             "#8e0152"
            ],
            [
             0.1,
             "#c51b7d"
            ],
            [
             0.2,
             "#de77ae"
            ],
            [
             0.3,
             "#f1b6da"
            ],
            [
             0.4,
             "#fde0ef"
            ],
            [
             0.5,
             "#f7f7f7"
            ],
            [
             0.6,
             "#e6f5d0"
            ],
            [
             0.7,
             "#b8e186"
            ],
            [
             0.8,
             "#7fbc41"
            ],
            [
             0.9,
             "#4d9221"
            ],
            [
             1,
             "#276419"
            ]
           ],
           "sequential": [
            [
             0,
             "#0d0887"
            ],
            [
             0.1111111111111111,
             "#46039f"
            ],
            [
             0.2222222222222222,
             "#7201a8"
            ],
            [
             0.3333333333333333,
             "#9c179e"
            ],
            [
             0.4444444444444444,
             "#bd3786"
            ],
            [
             0.5555555555555556,
             "#d8576b"
            ],
            [
             0.6666666666666666,
             "#ed7953"
            ],
            [
             0.7777777777777778,
             "#fb9f3a"
            ],
            [
             0.8888888888888888,
             "#fdca26"
            ],
            [
             1,
             "#f0f921"
            ]
           ],
           "sequentialminus": [
            [
             0,
             "#0d0887"
            ],
            [
             0.1111111111111111,
             "#46039f"
            ],
            [
             0.2222222222222222,
             "#7201a8"
            ],
            [
             0.3333333333333333,
             "#9c179e"
            ],
            [
             0.4444444444444444,
             "#bd3786"
            ],
            [
             0.5555555555555556,
             "#d8576b"
            ],
            [
             0.6666666666666666,
             "#ed7953"
            ],
            [
             0.7777777777777778,
             "#fb9f3a"
            ],
            [
             0.8888888888888888,
             "#fdca26"
            ],
            [
             1,
             "#f0f921"
            ]
           ]
          },
          "colorway": [
           "#636efa",
           "#EF553B",
           "#00cc96",
           "#ab63fa",
           "#FFA15A",
           "#19d3f3",
           "#FF6692",
           "#B6E880",
           "#FF97FF",
           "#FECB52"
          ],
          "font": {
           "color": "#2a3f5f"
          },
          "geo": {
           "bgcolor": "white",
           "lakecolor": "white",
           "landcolor": "#E5ECF6",
           "showlakes": true,
           "showland": true,
           "subunitcolor": "white"
          },
          "hoverlabel": {
           "align": "left"
          },
          "hovermode": "closest",
          "mapbox": {
           "style": "light"
          },
          "paper_bgcolor": "white",
          "plot_bgcolor": "#E5ECF6",
          "polar": {
           "angularaxis": {
            "gridcolor": "white",
            "linecolor": "white",
            "ticks": ""
           },
           "bgcolor": "#E5ECF6",
           "radialaxis": {
            "gridcolor": "white",
            "linecolor": "white",
            "ticks": ""
           }
          },
          "scene": {
           "xaxis": {
            "backgroundcolor": "#E5ECF6",
            "gridcolor": "white",
            "gridwidth": 2,
            "linecolor": "white",
            "showbackground": true,
            "ticks": "",
            "zerolinecolor": "white"
           },
           "yaxis": {
            "backgroundcolor": "#E5ECF6",
            "gridcolor": "white",
            "gridwidth": 2,
            "linecolor": "white",
            "showbackground": true,
            "ticks": "",
            "zerolinecolor": "white"
           },
           "zaxis": {
            "backgroundcolor": "#E5ECF6",
            "gridcolor": "white",
            "gridwidth": 2,
            "linecolor": "white",
            "showbackground": true,
            "ticks": "",
            "zerolinecolor": "white"
           }
          },
          "shapedefaults": {
           "line": {
            "color": "#2a3f5f"
           }
          },
          "ternary": {
           "aaxis": {
            "gridcolor": "white",
            "linecolor": "white",
            "ticks": ""
           },
           "baxis": {
            "gridcolor": "white",
            "linecolor": "white",
            "ticks": ""
           },
           "bgcolor": "#E5ECF6",
           "caxis": {
            "gridcolor": "white",
            "linecolor": "white",
            "ticks": ""
           }
          },
          "title": {
           "x": 0.05
          },
          "xaxis": {
           "automargin": true,
           "gridcolor": "white",
           "linecolor": "white",
           "ticks": "",
           "title": {
            "standoff": 15
           },
           "zerolinecolor": "white",
           "zerolinewidth": 2
          },
          "yaxis": {
           "automargin": true,
           "gridcolor": "white",
           "linecolor": "white",
           "ticks": "",
           "title": {
            "standoff": 15
           },
           "zerolinecolor": "white",
           "zerolinewidth": 2
          }
         }
        },
        "title": {
         "text": "Calibration performance over epochs"
        },
        "width": 1050,
        "xaxis": {
         "anchor": "y",
         "domain": [
          0,
          0.45
         ],
         "matches": "x3",
         "showticklabels": false
        },
        "xaxis2": {
         "anchor": "y2",
         "domain": [
          0.55,
          1
         ],
         "matches": "x4",
         "showticklabels": false
        },
        "xaxis3": {
         "anchor": "y3",
         "domain": [
          0,
          0.45
         ],
         "title": {
          "text": "Epoch"
         }
        },
        "xaxis4": {
         "anchor": "y4",
         "domain": [
          0.55,
          1
         ],
         "title": {
          "text": "Epoch"
         }
        },
        "yaxis": {
         "anchor": "x",
         "domain": [
          0.56,
          1
         ],
         "title": {
          "text": "Income ($)"
         }
        },
        "yaxis2": {
         "anchor": "x2",
         "domain": [
          0.56,
          1
         ],
         "title": {
          "text": "Income ($)"
         }
        },
        "yaxis3": {
         "anchor": "x3",
         "domain": [
          0,
          0.44
         ],
         "title": {
          "text": "Relative absolute error"
         }
        },
        "yaxis4": {
         "anchor": "x4",
         "domain": [
          0,
          0.44
         ],
         "title": {
          "text": "Relative absolute error"
         }
        }
       }
      }
     },
     "metadata": {},
     "output_type": "display_data"
    }
   ],
   "source": [
    "g20 = performance_df.query(\"target_name == 'income_aged_20_30'\")\n",
    "g40 = performance_df.query(\"target_name == 'income_aged_40_50'\")\n",
    "\n",
    "fig = make_subplots(\n",
    "    rows=2, cols=2,\n",
    "    subplot_titles=[\n",
    "        \"Estimate vs target: income_aged_20_30\",\n",
    "        \"Estimate vs target: income_aged_40_50\",\n",
    "        \"Relative absolute error: income_aged_20_30\",\n",
    "        \"Relative absolute error: income_aged_40_50\",\n",
    "    ],\n",
    "    shared_xaxes=True,\n",
    "    vertical_spacing=0.12,\n",
    "    horizontal_spacing=0.10,\n",
    ")\n",
    "\n",
    "fig.add_trace(\n",
    "    go.Scatter(\n",
    "        x=g20[\"epoch\"], y=g20[\"target\"],\n",
    "        mode=\"lines\", name=\"Target 20-30\",\n",
    "        line=dict(dash=\"dot\", color=\"red\"),\n",
    "    ),\n",
    "    row=1, col=1,\n",
    ")\n",
    "fig.add_trace(\n",
    "    go.Scatter(\n",
    "        x=g20[\"epoch\"], y=g20[\"estimate\"],\n",
    "        mode=\"lines\", name=\"Estimate 20-30\",\n",
    "        line=dict(color=\"blue\"),\n",
    "    ),\n",
    "    row=1, col=1,\n",
    ")\n",
    "\n",
    "fig.add_trace(\n",
    "    go.Scatter(\n",
    "        x=g40[\"epoch\"], y=g40[\"target\"],\n",
    "        mode=\"lines\", name=\"Target 40-50\",\n",
    "        line=dict(dash=\"dot\", color=\"red\"),\n",
    "    ),\n",
    "    row=1, col=2,\n",
    ")\n",
    "fig.add_trace(\n",
    "    go.Scatter(\n",
    "        x=g40[\"epoch\"], y=g40[\"estimate\"],\n",
    "        mode=\"lines\", name=\"Estimate 40-50\",\n",
    "        line=dict(color=\"green\"),\n",
    "    ),\n",
    "    row=1, col=2,\n",
    ")\n",
    "\n",
    "fig.add_trace(\n",
    "    go.Scatter(\n",
    "        x=g20[\"epoch\"], y=g20[\"rel_abs_error\"],\n",
    "        mode=\"lines\", showlegend=False,\n",
    "        line=dict(color=\"blue\"),\n",
    "    ),\n",
    "    row=2, col=1,\n",
    ")\n",
    "\n",
    "fig.add_trace(\n",
    "    go.Scatter(\n",
    "        x=g40[\"epoch\"], y=g40[\"rel_abs_error\"],\n",
    "        mode=\"lines\", showlegend=False,\n",
    "        line=dict(color=\"green\"),\n",
    "    ),\n",
    "    row=2, col=2,\n",
    ")\n",
    "\n",
    "fig.update_layout(\n",
    "    height=800, width=1050,\n",
    "    title_text=\"Calibration performance over epochs\",\n",
    "    legend=dict(x=1.05, y=1, xanchor=\"left\", yanchor=\"top\"),\n",
    "    margin=dict(r=200),\n",
    ")\n",
    "fig.update_xaxes(title_text=\"Epoch\", row=2, col=1)\n",
    "fig.update_xaxes(title_text=\"Epoch\", row=2, col=2)\n",
    "fig.update_yaxes(title_text=\"Income ($)\", row=1, col=1)\n",
    "fig.update_yaxes(title_text=\"Income ($)\", row=1, col=2)\n",
    "fig.update_yaxes(title_text=\"Relative absolute error\", row=2, col=1)\n",
    "fig.update_yaxes(title_text=\"Relative absolute error\", row=2, col=2)\n",
    "\n",
    "fig.show()"
   ]
  },
  {
   "cell_type": "code",
   "execution_count": 7,
   "id": "fefaf031",
   "metadata": {},
   "outputs": [
    {
     "data": {
      "text/html": [
       "<div>\n",
       "<style scoped>\n",
       "    .dataframe tbody tr th:only-of-type {\n",
       "        vertical-align: middle;\n",
       "    }\n",
       "\n",
       "    .dataframe tbody tr th {\n",
       "        vertical-align: top;\n",
       "    }\n",
       "\n",
       "    .dataframe thead th {\n",
       "        text-align: right;\n",
       "    }\n",
       "</style>\n",
       "<table border=\"1\" class=\"dataframe\">\n",
       "  <thead>\n",
       "    <tr style=\"text-align: right;\">\n",
       "      <th></th>\n",
       "      <th>Metric</th>\n",
       "      <th>Official target</th>\n",
       "      <th>Final estimate</th>\n",
       "      <th>Relative error</th>\n",
       "    </tr>\n",
       "  </thead>\n",
       "  <tbody>\n",
       "    <tr>\n",
       "      <th>0</th>\n",
       "      <td>income_aged_20_30</td>\n",
       "      <td>7.370324e+08</td>\n",
       "      <td>7.370271e+08</td>\n",
       "      <td>-0.000007</td>\n",
       "    </tr>\n",
       "    <tr>\n",
       "      <th>1</th>\n",
       "      <td>income_aged_40_50</td>\n",
       "      <td>9.767794e+05</td>\n",
       "      <td>9.767784e+05</td>\n",
       "      <td>-0.000001</td>\n",
       "    </tr>\n",
       "    <tr>\n",
       "      <th>2</th>\n",
       "      <td>income_aged_71</td>\n",
       "      <td>4.364799e+04</td>\n",
       "      <td>4.364699e+04</td>\n",
       "      <td>-0.000023</td>\n",
       "    </tr>\n",
       "  </tbody>\n",
       "</table>\n",
       "</div>"
      ],
      "text/plain": [
       "              Metric  Official target  Final estimate  Relative error\n",
       "0  income_aged_20_30     7.370324e+08    7.370271e+08       -0.000007\n",
       "1  income_aged_40_50     9.767794e+05    9.767784e+05       -0.000001\n",
       "2     income_aged_71     4.364799e+04    4.364699e+04       -0.000023"
      ]
     },
     "execution_count": 7,
     "metadata": {},
     "output_type": "execute_result"
    }
   ],
   "source": [
    "summary = calibrator.summary()\n",
    "summary"
   ]
  }
 ],
 "metadata": {
  "kernelspec": {
   "display_name": ".venv",
   "language": "python",
   "name": "python3"
  },
  "language_info": {
   "codemirror_mode": {
    "name": "ipython",
    "version": 3
   },
   "file_extension": ".py",
   "mimetype": "text/x-python",
   "name": "python",
   "nbconvert_exporter": "python",
   "pygments_lexer": "ipython3",
   "version": "3.11.13"
  }
 },
 "nbformat": 4,
 "nbformat_minor": 5
}
